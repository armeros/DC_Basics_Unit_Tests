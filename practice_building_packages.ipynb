{
  "nbformat": 4,
  "nbformat_minor": 0,
  "metadata": {
    "colab": {
      "name": "practice_building_packages",
      "provenance": [],
      "collapsed_sections": []
    },
    "kernelspec": {
      "name": "python3",
      "display_name": "Python 3"
    },
    "language_info": {
      "name": "python"
    }
  },
  "cells": [
    {
      "cell_type": "markdown",
      "metadata": {
        "id": "AEYE0_2trK1l"
      },
      "source": [
        "# ทดสอบการสร้างแพ็คเกจ และการรัน Unit Test เกือบสมบูรณ์ (ยกเว้น xfail และ skipif กับ ภาพที่ไม่เหมือน baseline ไม่ถูกสร้างขึ้นมาให้ดู)\n",
        "\n",
        "## ถ้าทำตามขั้นตอนของคอร์ส developing packages จะไม่มีปัญหาในการ import package ทั้งหมด แต่ต้องไปแก้เพิ่มในส่วนที่เป็น test module ให้มีคำนำหน้า (ในที่นี้ใช้ชื่อ uregress) module data, features, models, visuaization"
      ]
    },
    {
      "cell_type": "markdown",
      "metadata": {
        "id": "QfUAY2z5td0Z"
      },
      "source": [
        "สร้างโฟลเดอร์ mypackages/uregress\n"
      ]
    },
    {
      "cell_type": "code",
      "metadata": {
        "id": "VrI271E59ejx"
      },
      "source": [
        "!mkdir /content/mypackages/uregress"
      ],
      "execution_count": null,
      "outputs": []
    },
    {
      "cell_type": "code",
      "metadata": {
        "id": "dSrkzlMt3Clz"
      },
      "source": [
        "!mkdir /content/mypackages/uregress/data\n",
        "!mkdir /content/mypackages/uregress/data/clean\n",
        "!mkdir /content/mypackages/uregress/data/raw"
      ],
      "execution_count": 40,
      "outputs": []
    },
    {
      "cell_type": "code",
      "metadata": {
        "colab": {
          "base_uri": "https://localhost:8080/"
        },
        "id": "aQcWUYa3Zv9O",
        "outputId": "836f8721-faaa-4a43-cdf4-8230a71aa6e5"
      },
      "source": [
        "import os\n",
        "os.chdir(\"/content/mypackages/uregress\")\n",
        "!pip install -e ."
      ],
      "execution_count": 1,
      "outputs": [
        {
          "output_type": "stream",
          "text": [
            "Obtaining file:///content/mypackages/uregress\n",
            "Requirement already satisfied: jupyter>=1.0.0 in /usr/local/lib/python3.7/dist-packages (from uregress==0.1.0) (1.0.0)\n",
            "Requirement already satisfied: matplotlib>=3.1.1 in /usr/local/lib/python3.7/dist-packages (from uregress==0.1.0) (3.2.2)\n",
            "Requirement already satisfied: numpy>=1.17.3 in /usr/local/lib/python3.7/dist-packages (from uregress==0.1.0) (1.19.5)\n",
            "Requirement already satisfied: pytest>=5.2.2 in /usr/local/lib/python3.7/dist-packages (from uregress==0.1.0) (6.2.4)\n",
            "Requirement already satisfied: pytest-mpl>=0.10 in /usr/local/lib/python3.7/dist-packages (from uregress==0.1.0) (0.12)\n",
            "Requirement already satisfied: pytest-mock>=1.11.2 in /usr/local/lib/python3.7/dist-packages (from uregress==0.1.0) (3.6.1)\n",
            "Requirement already satisfied: scipy>=1.3.1 in /usr/local/lib/python3.7/dist-packages (from uregress==0.1.0) (1.4.1)\n",
            "Requirement already satisfied: ipykernel in /usr/local/lib/python3.7/dist-packages (from jupyter>=1.0.0->uregress==0.1.0) (4.10.1)\n",
            "Requirement already satisfied: nbconvert in /usr/local/lib/python3.7/dist-packages (from jupyter>=1.0.0->uregress==0.1.0) (5.6.1)\n",
            "Requirement already satisfied: notebook in /usr/local/lib/python3.7/dist-packages (from jupyter>=1.0.0->uregress==0.1.0) (5.3.1)\n",
            "Requirement already satisfied: ipywidgets in /usr/local/lib/python3.7/dist-packages (from jupyter>=1.0.0->uregress==0.1.0) (7.6.3)\n",
            "Requirement already satisfied: qtconsole in /usr/local/lib/python3.7/dist-packages (from jupyter>=1.0.0->uregress==0.1.0) (5.1.0)\n",
            "Requirement already satisfied: jupyter-console in /usr/local/lib/python3.7/dist-packages (from jupyter>=1.0.0->uregress==0.1.0) (5.2.0)\n",
            "Requirement already satisfied: kiwisolver>=1.0.1 in /usr/local/lib/python3.7/dist-packages (from matplotlib>=3.1.1->uregress==0.1.0) (1.3.1)\n",
            "Requirement already satisfied: pyparsing!=2.0.4,!=2.1.2,!=2.1.6,>=2.0.1 in /usr/local/lib/python3.7/dist-packages (from matplotlib>=3.1.1->uregress==0.1.0) (2.4.7)\n",
            "Requirement already satisfied: cycler>=0.10 in /usr/local/lib/python3.7/dist-packages (from matplotlib>=3.1.1->uregress==0.1.0) (0.10.0)\n",
            "Requirement already satisfied: python-dateutil>=2.1 in /usr/local/lib/python3.7/dist-packages (from matplotlib>=3.1.1->uregress==0.1.0) (2.8.1)\n",
            "Requirement already satisfied: toml in /usr/local/lib/python3.7/dist-packages (from pytest>=5.2.2->uregress==0.1.0) (0.10.2)\n",
            "Requirement already satisfied: packaging in /usr/local/lib/python3.7/dist-packages (from pytest>=5.2.2->uregress==0.1.0) (20.9)\n",
            "Requirement already satisfied: iniconfig in /usr/local/lib/python3.7/dist-packages (from pytest>=5.2.2->uregress==0.1.0) (1.1.1)\n",
            "Requirement already satisfied: importlib-metadata>=0.12; python_version < \"3.8\" in /usr/local/lib/python3.7/dist-packages (from pytest>=5.2.2->uregress==0.1.0) (4.0.1)\n",
            "Requirement already satisfied: pluggy<1.0.0a1,>=0.12 in /usr/local/lib/python3.7/dist-packages (from pytest>=5.2.2->uregress==0.1.0) (0.13.1)\n",
            "Requirement already satisfied: attrs>=19.2.0 in /usr/local/lib/python3.7/dist-packages (from pytest>=5.2.2->uregress==0.1.0) (21.2.0)\n",
            "Requirement already satisfied: py>=1.8.2 in /usr/local/lib/python3.7/dist-packages (from pytest>=5.2.2->uregress==0.1.0) (1.10.0)\n",
            "Requirement already satisfied: tornado>=4.0 in /usr/local/lib/python3.7/dist-packages (from ipykernel->jupyter>=1.0.0->uregress==0.1.0) (5.1.1)\n",
            "Requirement already satisfied: ipython>=4.0.0 in /usr/local/lib/python3.7/dist-packages (from ipykernel->jupyter>=1.0.0->uregress==0.1.0) (5.5.0)\n",
            "Requirement already satisfied: traitlets>=4.1.0 in /usr/local/lib/python3.7/dist-packages (from ipykernel->jupyter>=1.0.0->uregress==0.1.0) (5.0.5)\n",
            "Requirement already satisfied: jupyter-client in /usr/local/lib/python3.7/dist-packages (from ipykernel->jupyter>=1.0.0->uregress==0.1.0) (5.3.5)\n",
            "Requirement already satisfied: pygments in /usr/local/lib/python3.7/dist-packages (from nbconvert->jupyter>=1.0.0->uregress==0.1.0) (2.6.1)\n",
            "Requirement already satisfied: jinja2>=2.4 in /usr/local/lib/python3.7/dist-packages (from nbconvert->jupyter>=1.0.0->uregress==0.1.0) (2.11.3)\n",
            "Requirement already satisfied: mistune<2,>=0.8.1 in /usr/local/lib/python3.7/dist-packages (from nbconvert->jupyter>=1.0.0->uregress==0.1.0) (0.8.4)\n",
            "Requirement already satisfied: testpath in /usr/local/lib/python3.7/dist-packages (from nbconvert->jupyter>=1.0.0->uregress==0.1.0) (0.5.0)\n",
            "Requirement already satisfied: defusedxml in /usr/local/lib/python3.7/dist-packages (from nbconvert->jupyter>=1.0.0->uregress==0.1.0) (0.7.1)\n",
            "Requirement already satisfied: entrypoints>=0.2.2 in /usr/local/lib/python3.7/dist-packages (from nbconvert->jupyter>=1.0.0->uregress==0.1.0) (0.3)\n",
            "Requirement already satisfied: bleach in /usr/local/lib/python3.7/dist-packages (from nbconvert->jupyter>=1.0.0->uregress==0.1.0) (3.3.0)\n",
            "Requirement already satisfied: pandocfilters>=1.4.1 in /usr/local/lib/python3.7/dist-packages (from nbconvert->jupyter>=1.0.0->uregress==0.1.0) (1.4.3)\n",
            "Requirement already satisfied: nbformat>=4.4 in /usr/local/lib/python3.7/dist-packages (from nbconvert->jupyter>=1.0.0->uregress==0.1.0) (5.1.3)\n",
            "Requirement already satisfied: jupyter-core in /usr/local/lib/python3.7/dist-packages (from nbconvert->jupyter>=1.0.0->uregress==0.1.0) (4.7.1)\n",
            "Requirement already satisfied: ipython-genutils in /usr/local/lib/python3.7/dist-packages (from notebook->jupyter>=1.0.0->uregress==0.1.0) (0.2.0)\n",
            "Requirement already satisfied: terminado>=0.8.1 in /usr/local/lib/python3.7/dist-packages (from notebook->jupyter>=1.0.0->uregress==0.1.0) (0.10.0)\n",
            "Requirement already satisfied: Send2Trash in /usr/local/lib/python3.7/dist-packages (from notebook->jupyter>=1.0.0->uregress==0.1.0) (1.5.0)\n",
            "Requirement already satisfied: jupyterlab-widgets>=1.0.0; python_version >= \"3.6\" in /usr/local/lib/python3.7/dist-packages (from ipywidgets->jupyter>=1.0.0->uregress==0.1.0) (1.0.0)\n",
            "Requirement already satisfied: widgetsnbextension~=3.5.0 in /usr/local/lib/python3.7/dist-packages (from ipywidgets->jupyter>=1.0.0->uregress==0.1.0) (3.5.1)\n",
            "Requirement already satisfied: qtpy in /usr/local/lib/python3.7/dist-packages (from qtconsole->jupyter>=1.0.0->uregress==0.1.0) (1.9.0)\n",
            "Requirement already satisfied: pyzmq>=17.1 in /usr/local/lib/python3.7/dist-packages (from qtconsole->jupyter>=1.0.0->uregress==0.1.0) (22.0.3)\n",
            "Requirement already satisfied: prompt-toolkit<2.0.0,>=1.0.0 in /usr/local/lib/python3.7/dist-packages (from jupyter-console->jupyter>=1.0.0->uregress==0.1.0) (1.0.18)\n",
            "Requirement already satisfied: six in /usr/local/lib/python3.7/dist-packages (from cycler>=0.10->matplotlib>=3.1.1->uregress==0.1.0) (1.15.0)\n",
            "Requirement already satisfied: typing-extensions>=3.6.4; python_version < \"3.8\" in /usr/local/lib/python3.7/dist-packages (from importlib-metadata>=0.12; python_version < \"3.8\"->pytest>=5.2.2->uregress==0.1.0) (3.7.4.3)\n",
            "Requirement already satisfied: zipp>=0.5 in /usr/local/lib/python3.7/dist-packages (from importlib-metadata>=0.12; python_version < \"3.8\"->pytest>=5.2.2->uregress==0.1.0) (3.4.1)\n",
            "Requirement already satisfied: setuptools>=18.5 in /usr/local/lib/python3.7/dist-packages (from ipython>=4.0.0->ipykernel->jupyter>=1.0.0->uregress==0.1.0) (56.1.0)\n",
            "Requirement already satisfied: pexpect; sys_platform != \"win32\" in /usr/local/lib/python3.7/dist-packages (from ipython>=4.0.0->ipykernel->jupyter>=1.0.0->uregress==0.1.0) (4.8.0)\n",
            "Requirement already satisfied: simplegeneric>0.8 in /usr/local/lib/python3.7/dist-packages (from ipython>=4.0.0->ipykernel->jupyter>=1.0.0->uregress==0.1.0) (0.8.1)\n",
            "Requirement already satisfied: decorator in /usr/local/lib/python3.7/dist-packages (from ipython>=4.0.0->ipykernel->jupyter>=1.0.0->uregress==0.1.0) (4.4.2)\n",
            "Requirement already satisfied: pickleshare in /usr/local/lib/python3.7/dist-packages (from ipython>=4.0.0->ipykernel->jupyter>=1.0.0->uregress==0.1.0) (0.7.5)\n",
            "Requirement already satisfied: MarkupSafe>=0.23 in /usr/local/lib/python3.7/dist-packages (from jinja2>=2.4->nbconvert->jupyter>=1.0.0->uregress==0.1.0) (2.0.1)\n",
            "Requirement already satisfied: webencodings in /usr/local/lib/python3.7/dist-packages (from bleach->nbconvert->jupyter>=1.0.0->uregress==0.1.0) (0.5.1)\n",
            "Requirement already satisfied: jsonschema!=2.5.0,>=2.4 in /usr/local/lib/python3.7/dist-packages (from nbformat>=4.4->nbconvert->jupyter>=1.0.0->uregress==0.1.0) (2.6.0)\n",
            "Requirement already satisfied: ptyprocess; os_name != \"nt\" in /usr/local/lib/python3.7/dist-packages (from terminado>=0.8.1->notebook->jupyter>=1.0.0->uregress==0.1.0) (0.7.0)\n",
            "Requirement already satisfied: wcwidth in /usr/local/lib/python3.7/dist-packages (from prompt-toolkit<2.0.0,>=1.0.0->jupyter-console->jupyter>=1.0.0->uregress==0.1.0) (0.2.5)\n",
            "Installing collected packages: uregress\n",
            "  Found existing installation: uregress 0.1.0\n",
            "    Can't uninstall 'uregress'. No files were found to uninstall.\n",
            "  Running setup.py develop for uregress\n",
            "Successfully installed uregress\n"
          ],
          "name": "stdout"
        }
      ]
    },
    {
      "cell_type": "code",
      "metadata": {
        "colab": {
          "base_uri": "https://localhost:8080/"
        },
        "id": "Qzo-KjjerQl-",
        "outputId": "1e4c630f-ce57-4551-eb04-6132a004588a"
      },
      "source": [
        "%%file /content/mypackages/uregress/setup.py\n",
        "from setuptools import setup, find_packages\n",
        "\n",
        "# Add install requirements\n",
        "setup(\n",
        "    author=\"<your-name>\",\n",
        "    description=\"A practiced package\",\n",
        "    name=\"uregress\",\n",
        "    packages=find_packages(include=[\"uregress\", \"uregress.*\"]),\n",
        "    version=\"0.1.0\",\n",
        "    install_requires=[\"jupyter>=1.0.0\",\n",
        "                        \"matplotlib>=3.1.1\",\n",
        "                        \"numpy>=1.17.3\",\n",
        "                        \"pytest>=5.2.2\",\n",
        "                        \"pytest-mpl>=0.10\",\n",
        "                        \"pytest-mock>=1.11.2\",\n",
        "                        \"scipy>=1.3.1\",\n",
        "                        ],\n",
        "    python_requires=\">=3.5\",\n",
        ")"
      ],
      "execution_count": null,
      "outputs": [
        {
          "output_type": "stream",
          "text": [
            "Writing /content/mypackages/uregress/setup.py\n"
          ],
          "name": "stdout"
        }
      ]
    },
    {
      "cell_type": "markdown",
      "metadata": {
        "id": "_w96Y9x1tkGg"
      },
      "source": [
        "สร้างโฟลเดอร์ mypackages/uregress/uregress"
      ]
    },
    {
      "cell_type": "code",
      "metadata": {
        "colab": {
          "base_uri": "https://localhost:8080/"
        },
        "id": "8hE2bXKOrW7j",
        "outputId": "7d559a0e-9992-4ad9-c529-0fd6e7f72921"
      },
      "source": [
        "%%file /content/mypackages/uregress/uregress/__init__.py\n",
        "\n",
        "__doc__ = \"\"\"\n",
        "impyrial\n",
        "========\n",
        "A package for converting between imperial measurments of length and weight.\n",
        "\"\"\"\n",
        "\n",
        "__author__ = \"\"\"Practice Man\"\"\"\n",
        "__version__ = \"0.1.0\"\n",
        "\n",
        "from . import data, features, models, plots  # noqa : F401\n"
      ],
      "execution_count": null,
      "outputs": [
        {
          "output_type": "stream",
          "text": [
            "Writing /content/mypackages/uregress/uregress/__init__.py\n"
          ],
          "name": "stdout"
        }
      ]
    },
    {
      "cell_type": "markdown",
      "metadata": {
        "id": "myLbOFx-uOK3"
      },
      "source": [
        "*   สร้างโฟลเดอร์ /content/mypackages/uregress/uregress/data\n",
        "*   สร้างโฟลเดอร์ /content/mypackages/uregress/uregress/features\n",
        "*   สร้างโฟลเดอร์ /content/mypackages/uregress/uregress/models\n",
        "*   สร้างโฟลเดอร์ /content/mypackages/uregress/uregress/plots\n",
        "\n"
      ]
    },
    {
      "cell_type": "code",
      "metadata": {
        "id": "kaKubxWi3V_O"
      },
      "source": [
        "!mkdir /content/mypackages/uregress/uregress/data\n",
        "!mkdir /content/mypackages/uregress/uregress/features\n",
        "!mkdir /content/mypackages/uregress/uregress/models\n",
        "!mkdir /content/mypackages/uregress/uregress/visualization"
      ],
      "execution_count": null,
      "outputs": []
    },
    {
      "cell_type": "code",
      "metadata": {
        "colab": {
          "base_uri": "https://localhost:8080/"
        },
        "id": "rcTL1L_4t9CG",
        "outputId": "1ed6c633-87d6-4d74-a568-8eff02123072"
      },
      "source": [
        "%%file /content/mypackages/uregress/uregress/data/__init__.py\n",
        "from .preprocessing_helpers import *"
      ],
      "execution_count": null,
      "outputs": [
        {
          "output_type": "stream",
          "text": [
            "Writing /content/mypackages/uregress/uregress/data/__init__.py\n"
          ],
          "name": "stdout"
        }
      ]
    },
    {
      "cell_type": "code",
      "metadata": {
        "colab": {
          "base_uri": "https://localhost:8080/"
        },
        "id": "pmfm3HHfu1np",
        "outputId": "087dffb6-d5a3-4714-b240-006285915c99"
      },
      "source": [
        "%%file /content/mypackages/uregress/uregress/data/preprocessing_helpers.py\n",
        "def convert_to_int(integer_string_with_commas):\n",
        "    comma_separated_parts = integer_string_with_commas.split(\",\")\n",
        "    for i in range(len(comma_separated_parts)):\n",
        "        if len(comma_separated_parts[i]) > 3:\n",
        "            return None\n",
        "        if i != 0 and len(comma_separated_parts[i]) != 3:\n",
        "            return None\n",
        "    integer_string_without_commas = \"\".join(comma_separated_parts)\n",
        "    try:\n",
        "        return int(integer_string_without_commas)\n",
        "    except ValueError:\n",
        "        return None\n",
        "\n",
        "\n",
        "def row_to_list(row):\n",
        "    row = row.rstrip(\"\\n\")\n",
        "    separated_entries = row.split(\"\\t\")\n",
        "    if len(separated_entries) == 2 and \"\" not in separated_entries:\n",
        "        return separated_entries\n",
        "    return None\n",
        "\n",
        "\n",
        "def preprocess(raw_data_file_path, clean_data_file_path):\n",
        "    with open(raw_data_file_path, \"r\") as input_file:\n",
        "        rows = input_file.readlines()\n",
        "    with open(clean_data_file_path, \"w\") as output_file:\n",
        "        for row in rows:\n",
        "            row_as_list = row_to_list(row)\n",
        "            if row_as_list is None:\n",
        "                continue\n",
        "            area = convert_to_int(row_as_list[0])\n",
        "            price = convert_to_int(row_as_list[1])\n",
        "            if area is None or price is None:\n",
        "                continue\n",
        "            output_file.write(\"{0}\\t{1}\\n\".format(area, price))\n"
      ],
      "execution_count": null,
      "outputs": [
        {
          "output_type": "stream",
          "text": [
            "Writing /content/mypackages/uregress/uregress/data/preprocessing_helpers.py\n"
          ],
          "name": "stdout"
        }
      ]
    },
    {
      "cell_type": "code",
      "metadata": {
        "colab": {
          "base_uri": "https://localhost:8080/"
        },
        "id": "b-_ckoUcvE-0",
        "outputId": "74c57492-cf2a-41b5-c98b-01083c1bc233"
      },
      "source": [
        "%%file /content/mypackages/uregress/uregress/features/__init__.py\n",
        "from .as_numpy import *"
      ],
      "execution_count": null,
      "outputs": [
        {
          "output_type": "stream",
          "text": [
            "Writing /content/mypackages/uregress/uregress/features/__init__.py\n"
          ],
          "name": "stdout"
        }
      ]
    },
    {
      "cell_type": "code",
      "metadata": {
        "colab": {
          "base_uri": "https://localhost:8080/"
        },
        "id": "EEqwXmWTvo7s",
        "outputId": "5cac8de7-dc8e-4c92-f02b-9d494112f51d"
      },
      "source": [
        "%%file /content/mypackages/uregress/uregress/features/as_numpy.py\n",
        "import numpy as np\n",
        "\n",
        "\n",
        "def get_data_as_numpy_array(clean_data_file_path, num_columns):\n",
        "    result = np.empty((0, num_columns))\n",
        "    with open(clean_data_file_path, \"r\") as f:\n",
        "        rows = f.readlines()\n",
        "        for row_num in range(len(rows)):\n",
        "            try:\n",
        "                row = np.array([rows[row_num].rstrip(\"\\n\").split(\"\\t\")], dtype=float)\n",
        "            except ValueError:\n",
        "                raise ValueError(\"Line {0} of {1} is badly formatted\".format(row_num + 1, clean_data_file_path))\n",
        "            else:\n",
        "                if row.shape != (1, num_columns):\n",
        "                    raise ValueError(\"Line {0} of {1} does not have {2} columns\".format(row_num + 1,\n",
        "                                                                                        clean_data_file_path,\n",
        "                                                                                        num_columns\n",
        "                                                                                        )\n",
        "                                     )\n",
        "            result = np.append(result, row, axis=0)\n",
        "    return result\n"
      ],
      "execution_count": null,
      "outputs": [
        {
          "output_type": "stream",
          "text": [
            "Writing /content/mypackages/uregress/uregress/features/as_numpy.py\n"
          ],
          "name": "stdout"
        }
      ]
    },
    {
      "cell_type": "code",
      "metadata": {
        "colab": {
          "base_uri": "https://localhost:8080/"
        },
        "id": "w9I3JeMIv03a",
        "outputId": "80d3d491-f6bb-4688-8c7b-4155a793cdd2"
      },
      "source": [
        "%%file /content/mypackages/uregress/uregress/models/__init__.py\n",
        "from .train import *"
      ],
      "execution_count": null,
      "outputs": [
        {
          "output_type": "stream",
          "text": [
            "Writing /content/mypackages/uregress/uregress/models/__init__.py\n"
          ],
          "name": "stdout"
        }
      ]
    },
    {
      "cell_type": "code",
      "metadata": {
        "colab": {
          "base_uri": "https://localhost:8080/"
        },
        "id": "m3zrFn2iwGPf",
        "outputId": "4a034ec8-b9d2-4394-c09e-54e82ff2e17e"
      },
      "source": [
        "%%file /content/mypackages/uregress/uregress/models/train.py\n",
        "import numpy as np\n",
        "from scipy.stats import linregress\n",
        "\n",
        "\n",
        "def split_into_training_and_testing_sets(data_array):\n",
        "    dim = data_array.ndim\n",
        "    if dim != 2:\n",
        "        raise ValueError(\"Argument data_array must be two dimensional. Got {0} dimensional array instead!\".format(dim))\n",
        "    num_rows = data_array.shape[0]\n",
        "    if num_rows < 2:\n",
        "        raise ValueError(\"Argument data_array must have at least 2 rows, it actually has just {0}\".format(num_rows))\n",
        "    num_training = int(0.75 * data_array.shape[0])\n",
        "    permuted_indices = np.random.permutation(data_array.shape[0])\n",
        "    return data_array[permuted_indices[:num_training], :], data_array[permuted_indices[num_training:], :]\n",
        "\n",
        "\n",
        "def model_test(testing_set, slope, intercept):\n",
        "    dim = testing_set.ndim\n",
        "    if dim != 2:\n",
        "        raise ValueError(\"Argument testing_set must be two dimensional. Got {0} dimensional array instead!\".format(\n",
        "                            dim\n",
        "                            )\n",
        "                         )\n",
        "    num_cols = testing_set.shape[1]\n",
        "    if num_cols != 2:\n",
        "        raise ValueError(\"Argument testing_set must have 2 columns for univariate linear regression. \"\n",
        "                         \"It actually has {0} columns\".format(num_cols)\n",
        "                         )\n",
        "    actual_price = testing_set[:, 1]\n",
        "    predicted_price = slope*testing_set[:, 0] + intercept\n",
        "    residual_sum_of_squares = np.sum(np.square(predicted_price - actual_price)) / testing_set.shape[0]\n",
        "    return 1 - residual_sum_of_squares / np.var(actual_price)\n",
        "\n",
        "\n",
        "def train_model(training_set):\n",
        "    dim = training_set.ndim\n",
        "    if dim != 2:\n",
        "        raise ValueError(\"Argument training_set must be two dimensional. Got {0} dimensional array instead!\".format(\n",
        "                            dim\n",
        "                            )\n",
        "                         )\n",
        "    num_rows = training_set.shape[0]\n",
        "    if num_rows < 2:\n",
        "        raise ValueError(\"Argument training_set must have at least 2 rows for linear regression to work, \"\n",
        "                         \"it actually has just {0}\".format(num_rows)\n",
        "                         )\n",
        "    num_cols = training_set.shape[1]\n",
        "    if num_cols != 2:\n",
        "        raise ValueError(\"Argument training_set must have 2 columns for univariate linear regression. \"\n",
        "                         \"It actually has {0} columns\".format(num_cols)\n",
        "                         )\n",
        "    slope, intercept, _, _, _ = linregress(training_set[:, 0], training_set[:, 1])\n",
        "    return slope, intercept\n",
        "\n"
      ],
      "execution_count": null,
      "outputs": [
        {
          "output_type": "stream",
          "text": [
            "Writing /content/mypackages/uregress/uregress/models/train.py\n"
          ],
          "name": "stdout"
        }
      ]
    },
    {
      "cell_type": "code",
      "metadata": {
        "colab": {
          "base_uri": "https://localhost:8080/"
        },
        "id": "dCKuUj4iwS7-",
        "outputId": "2af1e21d-ea55-426f-ec3d-4f3ebdb11508"
      },
      "source": [
        "%%file /content/mypackages/uregress/uregress/plots/__init__.py\n",
        "from .plots import *"
      ],
      "execution_count": null,
      "outputs": [
        {
          "output_type": "stream",
          "text": [
            "Writing /content/mypackages/uregress/uregress/plots/__init__.py\n"
          ],
          "name": "stdout"
        }
      ]
    },
    {
      "cell_type": "code",
      "metadata": {
        "colab": {
          "base_uri": "https://localhost:8080/"
        },
        "id": "NkH3ArM0wjKR",
        "outputId": "18fbfbff-7509-4958-ab4b-fd0efb1ae738"
      },
      "source": [
        "%%file /content/mypackages/uregress/uregress/visualization/plots.py\n",
        "import matplotlib.pyplot as plt\n",
        "import numpy as np\n",
        "\n",
        "\n",
        "def get_plot_for_best_fit_line(slope, intercept, x_array, y_array, title):\n",
        "    x_array_ndim = x_array.ndim\n",
        "    if not x_array_ndim == 1:\n",
        "        raise ValueError(\"Argument x_array should be 1 dimensional. \"\n",
        "                         \"It actually is {0} dimensional\".format(x_array_ndim)\n",
        "                         )\n",
        "    y_array_ndim = y_array.ndim\n",
        "    if not y_array_ndim == 1:\n",
        "        raise ValueError(\"Argument y_array should be 1 dimensional. \"\n",
        "                         \"It actually is {0} dimensional\".format(y_array_ndim)\n",
        "                         )\n",
        "    x_array_length = x_array.shape[0]\n",
        "    y_array_length = y_array.shape[0]\n",
        "    if x_array_length != y_array_length:\n",
        "        raise RuntimeError(\"Arguments x_array and y_array should have same length. \"\n",
        "                           \"But x_array has length {0} and y_array has length {1}\".format(x_array_length,\n",
        "                                                                                          y_array_length\n",
        "                                                                                          )\n",
        "                           )\n",
        "    fig, ax = plt.subplots()\n",
        "    ax.plot(x_array, y_array, \".\")\n",
        "    ax.plot([0, np.max(x_array)], [intercept, slope * np.max(x_array) + intercept], \"-\")\n",
        "    ax.set(xlabel=\"area (square feet)\", ylabel=\"price (dollars)\", title=title)\n",
        "    return fig\n"
      ],
      "execution_count": 67,
      "outputs": [
        {
          "output_type": "stream",
          "text": [
            "Overwriting /content/mypackages/uregress/uregress/visualization/plots.py\n"
          ],
          "name": "stdout"
        }
      ]
    },
    {
      "cell_type": "code",
      "metadata": {
        "id": "KeHw2_c4wxN5"
      },
      "source": [
        "!mkdir /content/mypackages/uregress/tests"
      ],
      "execution_count": null,
      "outputs": []
    },
    {
      "cell_type": "code",
      "metadata": {
        "id": "SMEXAT2WxVy4"
      },
      "source": [
        "!mkdir /content/mypackages/uregress/tests/data\n",
        "!mkdir /content/mypackages/uregress/tests/features\n",
        "!mkdir /content/mypackages/uregress/tests/models\n",
        "!mkdir /content/mypackages/uregress/tests/visualization\n",
        "!mkdir /content/mypackages/uregress/tests/visualization/baseline"
      ],
      "execution_count": null,
      "outputs": []
    },
    {
      "cell_type": "code",
      "metadata": {
        "colab": {
          "base_uri": "https://localhost:8080/"
        },
        "id": "nt_31w2Fxj7U",
        "outputId": "03e2988a-5ed8-4252-f24e-a1b498baade3"
      },
      "source": [
        "%%file /content/mypackages/uregress/tests/__init__.py\n",
        "\n",
        "\"\"\"Unit tests for uregress.\"\"\""
      ],
      "execution_count": null,
      "outputs": [
        {
          "output_type": "stream",
          "text": [
            "Overwriting /content/mypackages/uregress/tests/__init__.py\n"
          ],
          "name": "stdout"
        }
      ]
    },
    {
      "cell_type": "code",
      "metadata": {
        "colab": {
          "base_uri": "https://localhost:8080/"
        },
        "id": "ZU6Rl3SVx9Ac",
        "outputId": "5cf4cd9c-b558-4ad0-a6fb-7dc593f22171"
      },
      "source": [
        "%%file /content/mypackages/uregress/tests/data/__init__.py\n",
        "\n",
        "\"\"\"Unit tests for preprocessing.\"\"\""
      ],
      "execution_count": null,
      "outputs": [
        {
          "output_type": "stream",
          "text": [
            "Writing /content/mypackages/uregress/tests/data/__init__.py\n"
          ],
          "name": "stdout"
        }
      ]
    },
    {
      "cell_type": "code",
      "metadata": {
        "colab": {
          "base_uri": "https://localhost:8080/"
        },
        "id": "0-kuDEk3yPYx",
        "outputId": "397a8f8e-d99d-41dc-fbeb-177cde7b91e3"
      },
      "source": [
        "%%file /content/mypackages/uregress/tests/features/__init__.py\n",
        "\n",
        "\"\"\"Unit tests for as_numpy.\"\"\""
      ],
      "execution_count": null,
      "outputs": [
        {
          "output_type": "stream",
          "text": [
            "Writing /content/mypackages/uregress/tests/features/__init__.py\n"
          ],
          "name": "stdout"
        }
      ]
    },
    {
      "cell_type": "code",
      "metadata": {
        "colab": {
          "base_uri": "https://localhost:8080/"
        },
        "id": "T23VkmmMyYoY",
        "outputId": "ddd128a5-fe0c-47b6-937a-8888f49300a8"
      },
      "source": [
        "%%file /content/mypackages/uregress/tests/models/__init__.py\n",
        "\n",
        "\"\"\"Unit tests for train.\"\"\""
      ],
      "execution_count": null,
      "outputs": [
        {
          "output_type": "stream",
          "text": [
            "Writing /content/mypackages/uregress/tests/models/__init__.py\n"
          ],
          "name": "stdout"
        }
      ]
    },
    {
      "cell_type": "code",
      "metadata": {
        "colab": {
          "base_uri": "https://localhost:8080/"
        },
        "id": "pZMn9MCtyd61",
        "outputId": "357099f0-d432-4afb-9463-b21cb6946aad"
      },
      "source": [
        "%%file /content/mypackages/uregress/tests/plots/__init__.py\n",
        "\n",
        "\"\"\"Unit tests for plots.\"\"\""
      ],
      "execution_count": null,
      "outputs": [
        {
          "output_type": "stream",
          "text": [
            "Writing /content/mypackages/uregress/tests/plots/__init__.py\n"
          ],
          "name": "stdout"
        }
      ]
    },
    {
      "cell_type": "code",
      "metadata": {
        "colab": {
          "base_uri": "https://localhost:8080/"
        },
        "id": "-6P9Udxwylwc",
        "outputId": "e5087f8f-78c9-450d-91ee-9fd0b15fe851"
      },
      "source": [
        "%%file /content/mypackages/uregress/tests/data/test_preprocessing_helpers.py\n",
        "\n",
        "from unittest.mock import call\n",
        "\n",
        "import pytest\n",
        "\n",
        "from uregress.data.preprocessing_helpers import convert_to_int, row_to_list, preprocess\n",
        "\n",
        "\n",
        "@pytest.fixture\n",
        "def raw_and_clean_data_file(tmpdir):\n",
        "    raw_path = tmpdir.join(\"raw.txt\")\n",
        "    clean_path = tmpdir.join(\"clean.txt\")\n",
        "    with open(raw_path, \"w\") as f:\n",
        "        f.write(\"1,801\\t201,411\\n\"\n",
        "                \"1,767565,112\\n\"\n",
        "                \"2,002\\t333,209\\n\"\n",
        "                \"1990\\t782,911\\n\"\n",
        "                \"1,285\\t389129\\n\"\n",
        "                )\n",
        "    return raw_path, clean_path\n",
        "\n",
        "\n",
        "def row_to_list_bug_free(row):\n",
        "    return_values = {\"1,801\\t201,411\\n\": [\"1,801\", \"201,411\"],\n",
        "                     \"1,767565,112\\n\": None,\n",
        "                     \"2,002\\t333,209\\n\": [\"2,002\", \"333,209\"],\n",
        "                     \"1990\\t782,911\\n\": [\"1990\", \"782,911\"],\n",
        "                     \"1,285\\t389129\\n\": [\"1,285\", \"389129\"],\n",
        "                     }\n",
        "    return return_values[row]\n",
        "\n",
        "# Define a function convert_to_int_bug_free() which takes one argument called \n",
        "# comma_separated_integer_string.\n",
        "def convert_to_int_bug_free(comma_separated_integer_string): \n",
        "    return_values = {\"1,801\": 1801, # Define a function convert_to_int_bug_free() \n",
        "                     \"201,411\": 201411, # which takes one argument called comma_separated_integer_string.\n",
        "                     \"2,002\": 2002,\n",
        "                     \"333,209\": 333209,\n",
        "                     \"1990\": None,\n",
        "                     \"782,911\": 782911,\n",
        "                     \"1,285\": 1285,\n",
        "                     \"389129\": None,\n",
        "                     }\n",
        "    # Return the correct return value by looking up the dictionary return_values \n",
        "    # for the key comma_separated_integer_string\n",
        "    return return_values[comma_separated_integer_string]\n",
        "\n",
        "\n",
        "class TestConvertToInt(object):\n",
        "    def test_with_no_comma(self):\n",
        "        test_argument = \"756\"\n",
        "        expected = 756\n",
        "        actual = convert_to_int(test_argument)\n",
        "        assert actual == expected, \"Expected: 756, Actual: {0}\".format(actual)\n",
        "\n",
        "    def test_with_one_comma(self):\n",
        "        test_argument = \"2,081\"\n",
        "        expected = 2081\n",
        "        actual = convert_to_int(test_argument)\n",
        "        assert actual == expected, \"Expected: 2081, Actual: {0}\".format(actual)\n",
        "\n",
        "    def test_with_two_commas(self):\n",
        "        test_argument = \"1,034,891\"\n",
        "        expected = 1034891\n",
        "        actual = convert_to_int(test_argument)\n",
        "        assert actual == expected, \"Expected: 1034891, Actual: {0}\".format(actual)\n",
        "\n",
        "    def test_on_string_with_incorrectly_placed_comma(self):\n",
        "        test_argument = \"12,72,891\"\n",
        "        expected = None\n",
        "        actual = convert_to_int(test_argument)\n",
        "        assert actual == expected, \"Expected: None, Actual: {0}\".format(actual)\n",
        "\n",
        "    def test_on_string_with_missing_comma(self):\n",
        "        test_argument = \"178100,301\"\n",
        "        expected = None\n",
        "        actual = convert_to_int(test_argument)\n",
        "        assert actual == expected, \"Expected: None, Actual: {0}\".format(actual)\n",
        "\n",
        "    def test_on_float_valued_string(self):\n",
        "        test_argument = \"6.9\"\n",
        "        expected = None\n",
        "        actual = convert_to_int(test_argument)\n",
        "        assert actual == expected, \"Expected: None, Actual: {0}\".format(actual)\n",
        "\n",
        "\n",
        "class TestRowToList(object):\n",
        "    def test_on_no_tab_no_missing_value(self):    # (0, 0) boundary value\n",
        "        actual = row_to_list(\"123\\n\")\n",
        "        assert actual is None, \"Expected: None, Actual: {0}\".format(actual)\n",
        "\n",
        "    def test_on_two_tabs_no_missing_value(self):    # (2, 0) boundary value\n",
        "        actual = row_to_list(\"123\\t4,567\\t89\\n\")\n",
        "        assert actual is None, \"Expected: None, Actual: {0}\".format(actual)\n",
        "\n",
        "    def test_on_one_tab_with_missing_value(self):    # (1, 1) boundary value\n",
        "        actual = row_to_list(\"\\t4,567\\n\")\n",
        "        assert actual is None, \"Expected: None, Actual: {0}\".format(actual)\n",
        "\n",
        "    def test_on_no_tab_with_missing_value(self):    # (0, 1) case\n",
        "        actual = row_to_list(\"\\n\")\n",
        "        assert actual is None, \"Expected: None, Actual: {0}\".format(actual)\n",
        "\n",
        "    def test_on_two_tabs_with_missing_value(self):    # (0, 1) case\n",
        "        actual = row_to_list(\"123\\t\\t89\\n\")\n",
        "        assert actual is None, \"Expected: None, Actual: {0}\".format(actual)\n",
        "\n",
        "    def test_on_normal_argument_1(self):\n",
        "        actual = row_to_list(\"123\\t4,567\\n\")\n",
        "        expected = [\"123\", \"4,567\"]\n",
        "        assert actual == expected, \"Expected: {0}, Actual: {1}\".format(expected, actual)\n",
        "\n",
        "    def test_on_normal_argument_2(self):\n",
        "        actual = row_to_list(\"1,059\\t186,606\\n\")\n",
        "        expected = [\"1,059\", \"186,606\"]\n",
        "        assert actual == expected, \"Expected: {0}, Actual: {1}\".format(expected, actual)\n",
        "\n",
        "\n",
        "class TestPreprocess(object):\n",
        "    # Add the correct argument \"mocker\" to use the mocking fixture in this test\n",
        "    def test_on_raw_data(self, raw_and_clean_data_file, mocker):\n",
        "        raw_path, clean_path = raw_and_clean_data_file\n",
        "        row_to_list_mock = mocker.patch(\"uregress.data.preprocessing_helpers.row_to_list\", side_effect=row_to_list_bug_free)\n",
        "        # Replace the dependency \"uregress.data.preprocessing_helpers.convert_to_int\" with the bug-free version\n",
        "        # convert_to_int_bug_free() by using the correct method and side effect.\n",
        "        convert_to_int_mock = mocker.patch(\"uregress.data.preprocessing_helpers.convert_to_int\",\n",
        "                                           side_effect=convert_to_int_bug_free\n",
        "                                           )\n",
        "        preprocess(raw_path, clean_path)\n",
        "        # Use the correct attribute which returns the list of calls to the mock, \n",
        "        # and check if the mock was called with this sequence of arguments.\n",
        "        assert row_to_list_mock.call_args_list == [call(\"1,801\\t201,411\\n\"),\n",
        "                                                   call(\"1,767565,112\\n\"),\n",
        "                                                   call(\"2,002\\t333,209\\n\"),\n",
        "                                                   call(\"1990\\t782,911\\n\"),\n",
        "                                                   call(\"1,285\\t389129\\n\")\n",
        "                                                   ]\n",
        "        assert convert_to_int_mock.call_args_list == [call(\"1,801\"), call(\"201,411\"), call(\"2,002\"), call(\"333,209\"),\n",
        "                                                      call(\"1990\"),  call(\"782,911\"), call(\"1,285\"), call(\"389129\")\n",
        "                                                      ]\n",
        "        with open(clean_path, \"r\") as f:\n",
        "            lines = f.readlines()\n",
        "        first_line = lines[0]\n",
        "        assert first_line == \"1801\\t201411\\n\"\n",
        "        second_line = lines[1]\n",
        "        assert second_line == \"2002\\t333209\\n\"\n",
        "\n"
      ],
      "execution_count": 53,
      "outputs": [
        {
          "output_type": "stream",
          "text": [
            "Overwriting /content/mypackages/uregress/tests/data/test_preprocessing_helpers.py\n"
          ],
          "name": "stdout"
        }
      ]
    },
    {
      "cell_type": "code",
      "metadata": {
        "colab": {
          "base_uri": "https://localhost:8080/"
        },
        "id": "zgRBM7dRzA3W",
        "outputId": "fc4e54f6-9046-4d1b-cd24-6738e11b2eda"
      },
      "source": [
        "%%file /content/mypackages/uregress/tests/features/test_as_numpy.py\n",
        "import os\n",
        "import numpy as np\n",
        "import pytest\n",
        "\n",
        "from uregress.features.as_numpy import get_data_as_numpy_array\n",
        "\n",
        "# Add the correct decorator that would turn clean_data_file() into a fixture.\n",
        "@pytest.fixture\n",
        "def clean_data_file():\n",
        "    file_path = \"clean.txt\"\n",
        "    with open(file_path, \"w\") as f:\n",
        "        f.write(\"201\\t305671\\n7892\\t298140\\n501\\t738293\\n\")\n",
        "    yield file_path\n",
        "    os.remove(file_path)\n",
        "\n",
        "\n",
        "# @pytest.fixture\n",
        "# def empty_file():\n",
        "#     file_path = \"empty.txt\" # Assign the file path \"empty.txt\" to the variable\n",
        "#     open(file_path, \"w\").close()\n",
        "#     yield file_path # Yield the variable file_path\n",
        "#     os.remove(file_path) # Remove the file in the teardown\n",
        "\n",
        "### Improved version ###\n",
        "\n",
        "@pytest.fixture\n",
        "# Add the correct argument so that this fixture can chain with the tmpdir fixture\n",
        "def empty_file(tmpdir):\n",
        "    # Use the appropriate method to create an empty file in the temporary directory\n",
        "    file_path = tmpdir.join(\"empty.txt\")\n",
        "    open(file_path, \"w\").close()\n",
        "    yield file_path\n",
        "\n",
        "\n",
        "class TestGetDataAsNumpyArray(object):\n",
        "    def test_on_clean_file(self, clean_data_file): # Pass an argument to the test test_on_clean_file() so that it uses the fixture.\n",
        "        expected = np.array([[201.0, 305671.0], [7892.0, 298140.0], [501.0, 738293.0]])\n",
        "        actual = get_data_as_numpy_array(clean_data_file, 2) # Pass the clean data file path yielded by the fixture as the first argument to the function get_data_as_numpy_array()\n",
        "        assert actual == pytest.approx(expected), \"Expected: {0}, Actual: {1}\".format(expected, actual)\n",
        "\n",
        "    def test_on_empty_file(self, empty_file):\n",
        "        expected = np.empty((0, 2))\n",
        "        actual = get_data_as_numpy_array(empty_file, 2)\n",
        "        assert actual == pytest.approx(expected), \"Expected: {0}, Actual: {1}\".format(expected, actual)\n"
      ],
      "execution_count": 44,
      "outputs": [
        {
          "output_type": "stream",
          "text": [
            "Overwriting /content/mypackages/uregress/tests/features/test_as_numpy.py\n"
          ],
          "name": "stdout"
        }
      ]
    },
    {
      "cell_type": "code",
      "metadata": {
        "colab": {
          "base_uri": "https://localhost:8080/"
        },
        "id": "H-zcZyb_zMQu",
        "outputId": "596e3744-0c55-4f99-8efe-d7bb3b51e91f"
      },
      "source": [
        "%%file /content/mypackages/uregress/tests/models/test_train.py\n",
        "from math import cos, pi, sin\n",
        "import numpy as np\n",
        "import pytest\n",
        "\n",
        "from uregress.models.train import split_into_training_and_testing_sets, train_model, model_test\n",
        "\n",
        "\n",
        "class TestSplitIntoTrainingAndTestingSets(object):\n",
        "    def test_on_six_rows(self):\n",
        "        test_argument = np.array([[2081.0, 314942.0],\n",
        "                               [1059.0, 186606.0],\n",
        "                               [1148.0, 206186.0],\n",
        "                               [1506.0, 248419.0],\n",
        "                               [1210.0, 214114.0],\n",
        "                               [1697.0, 277794.0],\n",
        "                               ]\n",
        "                              )\n",
        "        expected_length_training_set = 4\n",
        "        expected_length_testing_set = 2\n",
        "        actual = split_into_training_and_testing_sets(test_argument)\n",
        "        assert actual[0].shape[0] == expected_length_training_set, \\\n",
        "               \"The actual number of rows in the training array is not 4\"\n",
        "        assert actual[1].shape[0] == expected_length_testing_set, \\\n",
        "               \"The actual number of rows in the testing array is not 2\"\n",
        "\n",
        "    def test_on_one_row(self):\n",
        "        test_argument = np.array([[1382.0, 390167.0]])\n",
        "        with pytest.raises(ValueError) as exc_info:\n",
        "            split_into_training_and_testing_sets(test_argument)\n",
        "        expected_error_msg = \"Argument data_array must have at least 2 rows, it actually has just 1\"\n",
        "        assert exc_info.match(expected_error_msg)\n",
        "\n",
        "    def test_on_one_dimensional_array(self):\n",
        "        test_argument = np.array([1382.0, 390167.0])\n",
        "        with pytest.raises(ValueError) as exc_info:\n",
        "            split_into_training_and_testing_sets(test_argument)\n",
        "        expected_error_msg = \"Argument data_array must be two dimensional. Got 1 dimensional array instead!\"\n",
        "        assert exc_info.match(expected_error_msg)\n",
        "\n",
        "\n",
        "class TestTrainModel(object):\n",
        "    def test_on_linear_data(self):\n",
        "        test_argument = np.array([[1.0, 3.0], [2.0, 5.0], [3.0, 7.0]])\n",
        "        expected_slope = 2.0\n",
        "        expected_intercept = 1.0\n",
        "        actual_slope, actual_intercept = train_model(test_argument)\n",
        "        slope_message = (\"train_model({0}) should return slope {1}, \"\n",
        "                         \"but it actually returned slope {2}\".format(test_argument, expected_slope, actual_slope)\n",
        "                         )\n",
        "        intercept_message = (\"train_model({0}) should return intercept {1}, \"\n",
        "                             \"but it actually returned intercept {2}\".format(test_argument,\n",
        "                                                                             expected_intercept,\n",
        "                                                                             actual_intercept\n",
        "                                                                             )\n",
        "                             )\n",
        "        assert actual_slope == pytest.approx(expected_slope), slope_message\n",
        "        assert actual_intercept == pytest.approx(expected_intercept), intercept_message\n",
        "\n",
        "    def test_on_positively_correlated_data(self):\n",
        "        test_argument = np.array([[1.0, 4.0], [2.0, 4.0],\n",
        "                                  [3.0, 9.0], [4.0, 10.0],\n",
        "                                  [5.0, 7.0], [6.0, 13.0],\n",
        "                                  ]\n",
        "                                 )\n",
        "        actual_slope, actual_intercept = train_model(test_argument)\n",
        "        assert actual_slope > 0, \"Expected slope: > 0, Actual slope: {0}\".format(actual_slope)\n",
        "\n",
        "\n",
        "class TestModelTest(object):\n",
        "    def test_on_perfect_fit(self):\n",
        "        # Assign the variable test_argument to a NumPy array holding the perfectly linear testing data\n",
        "        test_argument = np.array([[1.0, 3.0], [2.0, 5.0], [3.0, 7.0]])\n",
        "        # Assign the variable expected to the expected value of r-squared in the special case of a perfect fit.\n",
        "        expected = 1.0\n",
        "        # Fill in with the model's slope and intercept that matches the testing set.\n",
        "        actual = model_test(test_argument, 2.0, 1.0)\n",
        "        message = \"model_test({0}) should return {1}, but it actually returned {2}\".format(test_argument,\n",
        "                                                                                           expected,\n",
        "                                                                                           actual\n",
        "                                                                                           )\n",
        "        # Remembering that actual is a float, complete the assert statement to check if actual returned by \n",
        "        # model_test() is equal to the expected return value expected.\n",
        "        assert actual == pytest.approx(expected), message\n",
        "\n",
        "    def test_on_circular_data(self):\n",
        "        theta = pi / 4.0\n",
        "        # Assign test_argument to a  NumPy array holding the circular testing \n",
        "        # data shown in the /content/mypackages/uregress/data/circula_data.png, starting with (1.0, 0.0) and moving anticlockwise.\n",
        "        test_argument = np.array([[0.0, 1.0],\n",
        "                                  [cos(theta), sin(theta)],\n",
        "                                  [1.0, 0.0],\n",
        "                                  [cos(3 * theta), sin(3 * theta)],\n",
        "                                  [0.0, -1.0],\n",
        "                                  [cos(5 * theta), sin(5 * theta)],\n",
        "                                  [-1.0, 0.0],\n",
        "                                  [cos(7 * theta), sin(7 * theta)]\n",
        "                                  ]\n",
        "                                 )\n",
        "        # Fill in with the slope and intercept of the straight line shown in the plot.\n",
        "        actual = model_test(test_argument, 0.0, 0.0)\n",
        "        # Remembering that model_test() returns a float, complete the assert \n",
        "        # statement to check if model_test() returns the expected value of r-squared in this special case.\n",
        "        assert actual == pytest.approx(0.0)\n",
        "\n",
        "    def test_on_one_dimensional_array(self):\n",
        "        test_argument = np.array([1.0, 2.0, 3.0, 4.0])\n",
        "        with pytest.raises(ValueError) as exc_info:\n",
        "            model_test(test_argument, 1.0, 1.0)\n",
        "        expected_error_msg = \"Argument testing_set must be two dimensional. Got 1 dimensional array instead!\"\n",
        "        assert exc_info.match(expected_error_msg)\n",
        "\n",
        "\n",
        "\n"
      ],
      "execution_count": 57,
      "outputs": [
        {
          "output_type": "stream",
          "text": [
            "Overwriting /content/mypackages/uregress/tests/models/test_train.py\n"
          ],
          "name": "stdout"
        }
      ]
    },
    {
      "cell_type": "code",
      "metadata": {
        "colab": {
          "base_uri": "https://localhost:8080/"
        },
        "id": "lX39N9r_zMkF",
        "outputId": "884be717-fde1-43e5-b7a6-93642a3f7633"
      },
      "source": [
        "%%file /content/mypackages/uregress/tests/visualization/test_plots.py\n",
        "import pytest\n",
        "import numpy as np\n",
        "\n",
        "from uregress.visualization.plots import get_plot_for_best_fit_line\n",
        "\n",
        "\n",
        "class TestGetPlotForBestFitLine(object):\n",
        "    @pytest.mark.mpl_image_compare          # Under the hood baseline generation and comparison\n",
        "    def test_plot_for_linear_data(self):\n",
        "        slope = 2.0\n",
        "        intercept = 1.0\n",
        "        x_array = np.array([1.0, 2.0, 3.0])\n",
        "        y_array = np.array([3.0, 5.0, 7.0])\n",
        "        title = \"Test plot for linear data\"\n",
        "        # Instead of an assert statement, the test returns matplotlib figure.\n",
        "        return get_plot_for_best_fit_line(slope, intercept, x_array, y_array, title)\n",
        "\n",
        "    @pytest.mark.mpl_image_compare\n",
        "    def test_plot_for_almost_linear_data(self):\n",
        "        slope = -2.0\n",
        "        intercept = 10.0\n",
        "        x_array = np.array([1.0, 2.0, 3.0])\n",
        "        y_array = np.array([8.0, 6.0, 5.0])\n",
        "        title = \"Test plot for almost linear data\"\n",
        "        # Instead of an assert statement, the test returns matplotlib figure.\n",
        "        return get_plot_for_best_fit_line(slope, intercept, x_array, y_array, title)\n",
        "\n"
      ],
      "execution_count": null,
      "outputs": [
        {
          "output_type": "stream",
          "text": [
            "Overwriting /content/mypackages/uregress/tests/visualization/test_plots.py\n"
          ],
          "name": "stdout"
        }
      ]
    },
    {
      "cell_type": "code",
      "metadata": {
        "colab": {
          "base_uri": "https://localhost:8080/"
        },
        "id": "kxPp5ty8zmXN",
        "outputId": "789977fc-8547-414a-856c-8ce90b989e13"
      },
      "source": [
        "import os\n",
        "os.chdir(\"/content/mypackages/uregress\")\n",
        "!pip install -e ."
      ],
      "execution_count": null,
      "outputs": [
        {
          "output_type": "stream",
          "text": [
            "Obtaining file:///content/mypackages/uregress\n",
            "Requirement already satisfied: jupyter>=1.0.0 in /usr/local/lib/python3.7/dist-packages (from uregress==0.1.0) (1.0.0)\n",
            "Requirement already satisfied: matplotlib>=3.1.1 in /usr/local/lib/python3.7/dist-packages (from uregress==0.1.0) (3.2.2)\n",
            "Requirement already satisfied: numpy>=1.17.3 in /usr/local/lib/python3.7/dist-packages (from uregress==0.1.0) (1.19.5)\n",
            "Requirement already satisfied: pytest>=5.2.2 in /usr/local/lib/python3.7/dist-packages (from uregress==0.1.0) (6.2.4)\n",
            "Requirement already satisfied: pytest-mpl>=0.10 in /usr/local/lib/python3.7/dist-packages (from uregress==0.1.0) (0.12)\n",
            "Requirement already satisfied: pytest-mock>=1.11.2 in /usr/local/lib/python3.7/dist-packages (from uregress==0.1.0) (3.6.1)\n",
            "Requirement already satisfied: scipy>=1.3.1 in /usr/local/lib/python3.7/dist-packages (from uregress==0.1.0) (1.4.1)\n",
            "Requirement already satisfied: qtconsole in /usr/local/lib/python3.7/dist-packages (from jupyter>=1.0.0->uregress==0.1.0) (5.1.0)\n",
            "Requirement already satisfied: notebook in /usr/local/lib/python3.7/dist-packages (from jupyter>=1.0.0->uregress==0.1.0) (5.3.1)\n",
            "Requirement already satisfied: jupyter-console in /usr/local/lib/python3.7/dist-packages (from jupyter>=1.0.0->uregress==0.1.0) (5.2.0)\n",
            "Requirement already satisfied: ipykernel in /usr/local/lib/python3.7/dist-packages (from jupyter>=1.0.0->uregress==0.1.0) (4.10.1)\n",
            "Requirement already satisfied: nbconvert in /usr/local/lib/python3.7/dist-packages (from jupyter>=1.0.0->uregress==0.1.0) (5.6.1)\n",
            "Requirement already satisfied: ipywidgets in /usr/local/lib/python3.7/dist-packages (from jupyter>=1.0.0->uregress==0.1.0) (7.6.3)\n",
            "Requirement already satisfied: python-dateutil>=2.1 in /usr/local/lib/python3.7/dist-packages (from matplotlib>=3.1.1->uregress==0.1.0) (2.8.1)\n",
            "Requirement already satisfied: kiwisolver>=1.0.1 in /usr/local/lib/python3.7/dist-packages (from matplotlib>=3.1.1->uregress==0.1.0) (1.3.1)\n",
            "Requirement already satisfied: pyparsing!=2.0.4,!=2.1.2,!=2.1.6,>=2.0.1 in /usr/local/lib/python3.7/dist-packages (from matplotlib>=3.1.1->uregress==0.1.0) (2.4.7)\n",
            "Requirement already satisfied: cycler>=0.10 in /usr/local/lib/python3.7/dist-packages (from matplotlib>=3.1.1->uregress==0.1.0) (0.10.0)\n",
            "Requirement already satisfied: attrs>=19.2.0 in /usr/local/lib/python3.7/dist-packages (from pytest>=5.2.2->uregress==0.1.0) (21.2.0)\n",
            "Requirement already satisfied: iniconfig in /usr/local/lib/python3.7/dist-packages (from pytest>=5.2.2->uregress==0.1.0) (1.1.1)\n",
            "Requirement already satisfied: packaging in /usr/local/lib/python3.7/dist-packages (from pytest>=5.2.2->uregress==0.1.0) (20.9)\n",
            "Requirement already satisfied: py>=1.8.2 in /usr/local/lib/python3.7/dist-packages (from pytest>=5.2.2->uregress==0.1.0) (1.10.0)\n",
            "Requirement already satisfied: pluggy<1.0.0a1,>=0.12 in /usr/local/lib/python3.7/dist-packages (from pytest>=5.2.2->uregress==0.1.0) (0.13.1)\n",
            "Requirement already satisfied: importlib-metadata>=0.12; python_version < \"3.8\" in /usr/local/lib/python3.7/dist-packages (from pytest>=5.2.2->uregress==0.1.0) (4.0.1)\n",
            "Requirement already satisfied: toml in /usr/local/lib/python3.7/dist-packages (from pytest>=5.2.2->uregress==0.1.0) (0.10.2)\n",
            "Requirement already satisfied: jupyter-client>=4.1 in /usr/local/lib/python3.7/dist-packages (from qtconsole->jupyter>=1.0.0->uregress==0.1.0) (5.3.5)\n",
            "Requirement already satisfied: jupyter-core in /usr/local/lib/python3.7/dist-packages (from qtconsole->jupyter>=1.0.0->uregress==0.1.0) (4.7.1)\n",
            "Requirement already satisfied: traitlets in /usr/local/lib/python3.7/dist-packages (from qtconsole->jupyter>=1.0.0->uregress==0.1.0) (5.0.5)\n",
            "Requirement already satisfied: ipython-genutils in /usr/local/lib/python3.7/dist-packages (from qtconsole->jupyter>=1.0.0->uregress==0.1.0) (0.2.0)\n",
            "Requirement already satisfied: pygments in /usr/local/lib/python3.7/dist-packages (from qtconsole->jupyter>=1.0.0->uregress==0.1.0) (2.6.1)\n",
            "Requirement already satisfied: qtpy in /usr/local/lib/python3.7/dist-packages (from qtconsole->jupyter>=1.0.0->uregress==0.1.0) (1.9.0)\n",
            "Requirement already satisfied: pyzmq>=17.1 in /usr/local/lib/python3.7/dist-packages (from qtconsole->jupyter>=1.0.0->uregress==0.1.0) (22.0.3)\n",
            "Requirement already satisfied: nbformat in /usr/local/lib/python3.7/dist-packages (from notebook->jupyter>=1.0.0->uregress==0.1.0) (5.1.3)\n",
            "Requirement already satisfied: jinja2 in /usr/local/lib/python3.7/dist-packages (from notebook->jupyter>=1.0.0->uregress==0.1.0) (2.11.3)\n",
            "Requirement already satisfied: Send2Trash in /usr/local/lib/python3.7/dist-packages (from notebook->jupyter>=1.0.0->uregress==0.1.0) (1.5.0)\n",
            "Requirement already satisfied: tornado>=4 in /usr/local/lib/python3.7/dist-packages (from notebook->jupyter>=1.0.0->uregress==0.1.0) (5.1.1)\n",
            "Requirement already satisfied: terminado>=0.8.1 in /usr/local/lib/python3.7/dist-packages (from notebook->jupyter>=1.0.0->uregress==0.1.0) (0.10.0)\n",
            "Requirement already satisfied: ipython in /usr/local/lib/python3.7/dist-packages (from jupyter-console->jupyter>=1.0.0->uregress==0.1.0) (5.5.0)\n",
            "Requirement already satisfied: prompt-toolkit<2.0.0,>=1.0.0 in /usr/local/lib/python3.7/dist-packages (from jupyter-console->jupyter>=1.0.0->uregress==0.1.0) (1.0.18)\n",
            "Requirement already satisfied: pandocfilters>=1.4.1 in /usr/local/lib/python3.7/dist-packages (from nbconvert->jupyter>=1.0.0->uregress==0.1.0) (1.4.3)\n",
            "Requirement already satisfied: defusedxml in /usr/local/lib/python3.7/dist-packages (from nbconvert->jupyter>=1.0.0->uregress==0.1.0) (0.7.1)\n",
            "Requirement already satisfied: bleach in /usr/local/lib/python3.7/dist-packages (from nbconvert->jupyter>=1.0.0->uregress==0.1.0) (3.3.0)\n",
            "Requirement already satisfied: entrypoints>=0.2.2 in /usr/local/lib/python3.7/dist-packages (from nbconvert->jupyter>=1.0.0->uregress==0.1.0) (0.3)\n",
            "Requirement already satisfied: mistune<2,>=0.8.1 in /usr/local/lib/python3.7/dist-packages (from nbconvert->jupyter>=1.0.0->uregress==0.1.0) (0.8.4)\n",
            "Requirement already satisfied: testpath in /usr/local/lib/python3.7/dist-packages (from nbconvert->jupyter>=1.0.0->uregress==0.1.0) (0.5.0)\n",
            "Requirement already satisfied: jupyterlab-widgets>=1.0.0; python_version >= \"3.6\" in /usr/local/lib/python3.7/dist-packages (from ipywidgets->jupyter>=1.0.0->uregress==0.1.0) (1.0.0)\n",
            "Requirement already satisfied: widgetsnbextension~=3.5.0 in /usr/local/lib/python3.7/dist-packages (from ipywidgets->jupyter>=1.0.0->uregress==0.1.0) (3.5.1)\n",
            "Requirement already satisfied: six>=1.5 in /usr/local/lib/python3.7/dist-packages (from python-dateutil>=2.1->matplotlib>=3.1.1->uregress==0.1.0) (1.15.0)\n",
            "Requirement already satisfied: typing-extensions>=3.6.4; python_version < \"3.8\" in /usr/local/lib/python3.7/dist-packages (from importlib-metadata>=0.12; python_version < \"3.8\"->pytest>=5.2.2->uregress==0.1.0) (3.7.4.3)\n",
            "Requirement already satisfied: zipp>=0.5 in /usr/local/lib/python3.7/dist-packages (from importlib-metadata>=0.12; python_version < \"3.8\"->pytest>=5.2.2->uregress==0.1.0) (3.4.1)\n",
            "Requirement already satisfied: jsonschema!=2.5.0,>=2.4 in /usr/local/lib/python3.7/dist-packages (from nbformat->notebook->jupyter>=1.0.0->uregress==0.1.0) (2.6.0)\n",
            "Requirement already satisfied: MarkupSafe>=0.23 in /usr/local/lib/python3.7/dist-packages (from jinja2->notebook->jupyter>=1.0.0->uregress==0.1.0) (2.0.1)\n",
            "Requirement already satisfied: ptyprocess; os_name != \"nt\" in /usr/local/lib/python3.7/dist-packages (from terminado>=0.8.1->notebook->jupyter>=1.0.0->uregress==0.1.0) (0.7.0)\n",
            "Requirement already satisfied: decorator in /usr/local/lib/python3.7/dist-packages (from ipython->jupyter-console->jupyter>=1.0.0->uregress==0.1.0) (4.4.2)\n",
            "Requirement already satisfied: simplegeneric>0.8 in /usr/local/lib/python3.7/dist-packages (from ipython->jupyter-console->jupyter>=1.0.0->uregress==0.1.0) (0.8.1)\n",
            "Requirement already satisfied: pexpect; sys_platform != \"win32\" in /usr/local/lib/python3.7/dist-packages (from ipython->jupyter-console->jupyter>=1.0.0->uregress==0.1.0) (4.8.0)\n",
            "Requirement already satisfied: setuptools>=18.5 in /usr/local/lib/python3.7/dist-packages (from ipython->jupyter-console->jupyter>=1.0.0->uregress==0.1.0) (56.1.0)\n",
            "Requirement already satisfied: pickleshare in /usr/local/lib/python3.7/dist-packages (from ipython->jupyter-console->jupyter>=1.0.0->uregress==0.1.0) (0.7.5)\n",
            "Requirement already satisfied: wcwidth in /usr/local/lib/python3.7/dist-packages (from prompt-toolkit<2.0.0,>=1.0.0->jupyter-console->jupyter>=1.0.0->uregress==0.1.0) (0.2.5)\n",
            "Requirement already satisfied: webencodings in /usr/local/lib/python3.7/dist-packages (from bleach->nbconvert->jupyter>=1.0.0->uregress==0.1.0) (0.5.1)\n",
            "Installing collected packages: uregress\n",
            "  Found existing installation: uregress 0.1.0\n",
            "    Can't uninstall 'uregress'. No files were found to uninstall.\n",
            "  Running setup.py develop for uregress\n",
            "Successfully installed uregress\n"
          ],
          "name": "stdout"
        }
      ]
    },
    {
      "cell_type": "code",
      "metadata": {
        "id": "FiFppTCT0VAa"
      },
      "source": [
        "import uregress\n",
        "import pytest"
      ],
      "execution_count": null,
      "outputs": []
    },
    {
      "cell_type": "code",
      "metadata": {
        "colab": {
          "base_uri": "https://localhost:8080/"
        },
        "id": "uRZN2b0h0ke6",
        "outputId": "aa4112cb-2d51-4913-b361-775deff6b6ff"
      },
      "source": [
        "!pytest"
      ],
      "execution_count": null,
      "outputs": [
        {
          "output_type": "stream",
          "text": [
            "\u001b[1m============================= test session starts ==============================\u001b[0m\n",
            "platform linux -- Python 3.7.10, pytest-6.2.4, py-1.10.0, pluggy-0.13.1\n",
            "Matplotlib: 3.2.2\n",
            "Freetype: 2.6.1\n",
            "rootdir: /content/mypackages/uregress\n",
            "plugins: mock-3.6.1, mpl-0.12, typeguard-2.7.1\n",
            "collected 26 items                                                             \u001b[0m\n",
            "\n",
            "tests/data/test_preprocessing_helpers.py \u001b[32m.\u001b[0m\u001b[32m.\u001b[0m\u001b[32m.\u001b[0m\u001b[32m.\u001b[0m\u001b[32m.\u001b[0m\u001b[32m.\u001b[0m\u001b[32m.\u001b[0m\u001b[32m.\u001b[0m\u001b[32m.\u001b[0m\u001b[32m.\u001b[0m\u001b[32m.\u001b[0m\u001b[32m.\u001b[0m\u001b[32m.\u001b[0m\u001b[32m.\u001b[0m\u001b[32m                  [ 53%]\u001b[0m\n",
            "tests/features/test_as_numpy.py \u001b[32m.\u001b[0m\u001b[32m.\u001b[0m\u001b[32m                                       [ 61%]\u001b[0m\n",
            "tests/models/test_train.py \u001b[32m.\u001b[0m\u001b[32m.\u001b[0m\u001b[32m.\u001b[0m\u001b[32m.\u001b[0m\u001b[32m.\u001b[0m\u001b[32m.\u001b[0m\u001b[32m.\u001b[0m\u001b[32m.\u001b[0m\u001b[32m                                      [ 92%]\u001b[0m\n",
            "tests/visualization/test_plots.py \u001b[32m.\u001b[0m\u001b[32m.\u001b[0m\u001b[32m                                     [100%]\u001b[0m\n",
            "\n",
            "\u001b[32m============================== \u001b[32m\u001b[1m26 passed\u001b[0m\u001b[32m in 1.14s\u001b[0m\u001b[32m ==============================\u001b[0m\n"
          ],
          "name": "stdout"
        }
      ]
    },
    {
      "cell_type": "code",
      "metadata": {
        "colab": {
          "base_uri": "https://localhost:8080/"
        },
        "id": "G5_uSuiE1HKu",
        "outputId": "8ca2abbd-5b93-4f13-878a-1b50be19a5e8"
      },
      "source": [
        "# Run pytest only in one particular file.\n",
        "\n",
        "!pytest /content/mypackages/uregress/tests/data/test_preprocessing_helpers.py"
      ],
      "execution_count": null,
      "outputs": [
        {
          "output_type": "stream",
          "text": [
            "\u001b[1m============================= test session starts ==============================\u001b[0m\n",
            "platform linux -- Python 3.7.10, pytest-6.2.4, py-1.10.0, pluggy-0.13.1\n",
            "Matplotlib: 3.2.2\n",
            "Freetype: 2.6.1\n",
            "rootdir: /content/mypackages/uregress\n",
            "plugins: mock-3.6.1, mpl-0.12, typeguard-2.7.1\n",
            "collected 14 items                                                             \u001b[0m\n",
            "\n",
            "tests/data/test_preprocessing_helpers.py \u001b[32m.\u001b[0m\u001b[32m.\u001b[0m\u001b[32m.\u001b[0m\u001b[32m.\u001b[0m\u001b[32m.\u001b[0m\u001b[32m.\u001b[0m\u001b[32m.\u001b[0m\u001b[32m.\u001b[0m\u001b[32m.\u001b[0m\u001b[32m.\u001b[0m\u001b[32m.\u001b[0m\u001b[32m.\u001b[0m\u001b[32m.\u001b[0m\u001b[32m.\u001b[0m\u001b[32m                  [100%]\u001b[0m\n",
            "\n",
            "\u001b[32m============================== \u001b[32m\u001b[1m14 passed\u001b[0m\u001b[32m in 1.06s\u001b[0m\u001b[32m ==============================\u001b[0m\n"
          ],
          "name": "stdout"
        }
      ]
    },
    {
      "cell_type": "code",
      "metadata": {
        "colab": {
          "base_uri": "https://localhost:8080/"
        },
        "id": "868ehKV-LEgs",
        "outputId": "6df22aa6-397d-4b9f-f882-264f56250d09"
      },
      "source": [
        "# pytest using Node ID to test a particular test class\n",
        "!pytest /content/mypackages/uregress/tests/data/test_preprocessing_helpers.py::TestRowToList"
      ],
      "execution_count": null,
      "outputs": [
        {
          "output_type": "stream",
          "text": [
            "\u001b[1m============================= test session starts ==============================\u001b[0m\n",
            "platform linux -- Python 3.7.10, pytest-6.2.4, py-1.10.0, pluggy-0.13.1\n",
            "Matplotlib: 3.2.2\n",
            "Freetype: 2.6.1\n",
            "rootdir: /content/mypackages/uregress\n",
            "plugins: mock-3.6.1, mpl-0.12, typeguard-2.7.1\n",
            "collected 7 items                                                              \u001b[0m\n",
            "\n",
            "tests/data/test_preprocessing_helpers.py \u001b[32m.\u001b[0m\u001b[32m.\u001b[0m\u001b[32m.\u001b[0m\u001b[32m.\u001b[0m\u001b[32m.\u001b[0m\u001b[32m.\u001b[0m\u001b[32m.\u001b[0m\u001b[32m                         [100%]\u001b[0m\n",
            "\n",
            "\u001b[32m============================== \u001b[32m\u001b[1m7 passed\u001b[0m\u001b[32m in 1.06s\u001b[0m\u001b[32m ===============================\u001b[0m\n"
          ],
          "name": "stdout"
        }
      ]
    },
    {
      "cell_type": "code",
      "metadata": {
        "colab": {
          "base_uri": "https://localhost:8080/"
        },
        "id": "cBXN_zFSLewH",
        "outputId": "21ec1563-6d2d-42c0-b716-ee2a84206814"
      },
      "source": [
        "# pytest using Node ID to test a particular test function\n",
        "!pytest /content/mypackages/uregress/tests/data/test_preprocessing_helpers.py::TestRowToList::test_on_one_tab_with_missing_value"
      ],
      "execution_count": null,
      "outputs": [
        {
          "output_type": "stream",
          "text": [
            "\u001b[1m============================= test session starts ==============================\u001b[0m\n",
            "platform linux -- Python 3.7.10, pytest-6.2.4, py-1.10.0, pluggy-0.13.1\n",
            "Matplotlib: 3.2.2\n",
            "Freetype: 2.6.1\n",
            "rootdir: /content/mypackages/uregress\n",
            "plugins: mock-3.6.1, mpl-0.12, typeguard-2.7.1\n",
            "collected 1 item                                                               \u001b[0m\n",
            "\n",
            "tests/data/test_preprocessing_helpers.py \u001b[32m.\u001b[0m\u001b[32m                               [100%]\u001b[0m\n",
            "\n",
            "\u001b[32m============================== \u001b[32m\u001b[1m1 passed\u001b[0m\u001b[32m in 1.06s\u001b[0m\u001b[32m ===============================\u001b[0m\n"
          ],
          "name": "stdout"
        }
      ]
    },
    {
      "cell_type": "code",
      "metadata": {
        "colab": {
          "base_uri": "https://localhost:8080/"
        },
        "id": "VfqZ8MecL8qs",
        "outputId": "ad165c6d-21bb-4c91-e917-3072077179e1"
      },
      "source": [
        "# Run pytest using -k flag\n",
        "!pytest -k \"TestSplit\""
      ],
      "execution_count": null,
      "outputs": [
        {
          "output_type": "stream",
          "text": [
            "\u001b[1m============================= test session starts ==============================\u001b[0m\n",
            "platform linux -- Python 3.7.10, pytest-6.2.4, py-1.10.0, pluggy-0.13.1\n",
            "Matplotlib: 3.2.2\n",
            "Freetype: 2.6.1\n",
            "rootdir: /content/mypackages/uregress\n",
            "plugins: mock-3.6.1, mpl-0.12, typeguard-2.7.1\n",
            "collected 26 items / 23 deselected / 3 selected                                \u001b[0m\n",
            "\n",
            "tests/models/test_train.py \u001b[32m.\u001b[0m\u001b[32m.\u001b[0m\u001b[32m.\u001b[0m\u001b[32m                                           [100%]\u001b[0m\n",
            "\n",
            "\u001b[32m======================= \u001b[32m\u001b[1m3 passed\u001b[0m, \u001b[33m23 deselected\u001b[0m\u001b[32m in 1.09s\u001b[0m\u001b[32m =======================\u001b[0m\n"
          ],
          "name": "stdout"
        }
      ]
    },
    {
      "cell_type": "code",
      "metadata": {
        "colab": {
          "base_uri": "https://localhost:8080/"
        },
        "id": "pIURiMboMQcJ",
        "outputId": "ddb9027b-1459-4247-adae-d4dd93cdf86a"
      },
      "source": [
        "# Run pytest using -k flag with exception\n",
        "!pytest -k \"TestSplit and not test_on_one_row\"\n"
      ],
      "execution_count": null,
      "outputs": [
        {
          "output_type": "stream",
          "text": [
            "\u001b[1m============================= test session starts ==============================\u001b[0m\n",
            "platform linux -- Python 3.7.10, pytest-6.2.4, py-1.10.0, pluggy-0.13.1\n",
            "Matplotlib: 3.2.2\n",
            "Freetype: 2.6.1\n",
            "rootdir: /content/mypackages/uregress\n",
            "plugins: mock-3.6.1, mpl-0.12, typeguard-2.7.1\n",
            "collected 26 items / 24 deselected / 2 selected                                \u001b[0m\n",
            "\n",
            "tests/models/test_train.py \u001b[32m.\u001b[0m\u001b[32m.\u001b[0m\u001b[32m                                            [100%]\u001b[0m\n",
            "\n",
            "\u001b[32m======================= \u001b[32m\u001b[1m2 passed\u001b[0m, \u001b[33m24 deselected\u001b[0m\u001b[32m in 1.09s\u001b[0m\u001b[32m =======================\u001b[0m\n"
          ],
          "name": "stdout"
        }
      ]
    },
    {
      "cell_type": "code",
      "metadata": {
        "colab": {
          "base_uri": "https://localhost:8080/"
        },
        "id": "Ob61LYQ2MmUu",
        "outputId": "31fdd7f9-a913-47ad-fa2f-964e40257199"
      },
      "source": [
        "# Changing this on purpose to see the failed pytest\n",
        "%%file /content/mypackages/uregress/uregress/models/train.py\n",
        "import numpy as np\n",
        "from scipy.stats import linregress\n",
        "\n",
        "\n",
        "def split_into_training_and_testing_sets(data_array):\n",
        "    dim = data_array.ndim\n",
        "    if dim != 2:\n",
        "        raise ValueError(\"Argument data_array must be two dimensional. Got {0} dimensional array instead!\".format(dim))\n",
        "    num_rows = data_array.shape[0]\n",
        "    if num_rows < 2:\n",
        "        raise ValueError(\"Argument data_array must have at least 2 rows, it actually has just {0}\".format(num_rows))\n",
        "    num_training = int(0.2 * data_array.shape[0])\n",
        "    permuted_indices = np.random.permutation(data_array.shape[0])\n",
        "    return data_array[permuted_indices[:num_training], :], data_array[permuted_indices[num_training:], :]\n",
        "\n",
        "\n",
        "def model_test(testing_set, slope, intercept):\n",
        "    dim = testing_set.ndim\n",
        "    if dim != 2:\n",
        "        raise ValueError(\"Argument testing_set must be two dimensional. Got {0} dimensional array instead!\".format(\n",
        "                            dim\n",
        "                            )\n",
        "                         )\n",
        "    num_cols = testing_set.shape[1]\n",
        "    if num_cols != 2:\n",
        "        raise ValueError(\"Argument testing_set must have 2 columns for univariate linear regression. \"\n",
        "                         \"It actually has {0} columns\".format(num_cols)\n",
        "                         )\n",
        "    actual_price = testing_set[:, 1]\n",
        "    predicted_price = slope*testing_set[:, 0] + intercept\n",
        "    residual_sum_of_squares = np.sum(np.square(predicted_price - actual_price)) / testing_set.shape[0]\n",
        "    return 1 - residual_sum_of_squares / np.var(actual_price)\n",
        "\n",
        "\n",
        "def train_model(training_set):\n",
        "    dim = training_set.ndim\n",
        "    if dim != 2:\n",
        "        raise ValueError(\"Argument training_set must be two dimensional. Got {0} dimensional array instead!\".format(\n",
        "                            dim\n",
        "                            )\n",
        "                         )\n",
        "    num_rows = training_set.shape[0]\n",
        "    if num_rows < 2:\n",
        "        raise ValueError(\"Argument training_set must have at least 2 rows for linear regression to work, \"\n",
        "                         \"it actually has just {0}\".format(num_rows)\n",
        "                         )\n",
        "    num_cols = training_set.shape[1]\n",
        "    if num_cols != 2:\n",
        "        raise ValueError(\"Argument training_set must have 2 columns for univariate linear regression. \"\n",
        "                         \"It actually has {0} columns\".format(num_cols)\n",
        "                         )\n",
        "    slope, intercept, _, _, _ = linregress(training_set[:, 0], training_set[:, 1])\n",
        "    return slope, intercept\n"
      ],
      "execution_count": null,
      "outputs": [
        {
          "output_type": "stream",
          "text": [
            "Overwriting /content/mypackages/uregress/uregress/models/train.py\n"
          ],
          "name": "stdout"
        }
      ]
    },
    {
      "cell_type": "code",
      "metadata": {
        "colab": {
          "base_uri": "https://localhost:8080/"
        },
        "id": "G7xMrmH9Nyz5",
        "outputId": "8866ace0-b957-4f8e-b7ff-5ae3027a2390"
      },
      "source": [
        "# This should generate AssertionError\n",
        "!pytest /content/mypackages/uregress/tests/models/test_train.py::TestSplitIntoTrainingAndTestingSets"
      ],
      "execution_count": null,
      "outputs": [
        {
          "output_type": "stream",
          "text": [
            "\u001b[1m============================= test session starts ==============================\u001b[0m\n",
            "platform linux -- Python 3.7.10, pytest-6.2.4, py-1.10.0, pluggy-0.13.1\n",
            "Matplotlib: 3.2.2\n",
            "Freetype: 2.6.1\n",
            "rootdir: /content/mypackages/uregress\n",
            "plugins: mock-3.6.1, mpl-0.12, typeguard-2.7.1\n",
            "collected 3 items                                                              \u001b[0m\n",
            "\n",
            "tests/models/test_train.py \u001b[31mF\u001b[0m\u001b[32m.\u001b[0m\u001b[32m.\u001b[0m\u001b[31m                                           [100%]\u001b[0m\n",
            "\n",
            "=================================== FAILURES ===================================\n",
            "\u001b[31m\u001b[1m_____________ TestSplitIntoTrainingAndTestingSets.test_on_six_rows _____________\u001b[0m\n",
            "\n",
            "self = <tests.models.test_train.TestSplitIntoTrainingAndTestingSets object at 0x7fd319a3b850>\n",
            "\n",
            "    \u001b[94mdef\u001b[39;49;00m \u001b[92mtest_on_six_rows\u001b[39;49;00m(\u001b[96mself\u001b[39;49;00m):\n",
            "        test_argument = np.array([[\u001b[94m2081.0\u001b[39;49;00m, \u001b[94m314942.0\u001b[39;49;00m],\n",
            "                               [\u001b[94m1059.0\u001b[39;49;00m, \u001b[94m186606.0\u001b[39;49;00m],\n",
            "                               [\u001b[94m1148.0\u001b[39;49;00m, \u001b[94m206186.0\u001b[39;49;00m],\n",
            "                               [\u001b[94m1506.0\u001b[39;49;00m, \u001b[94m248419.0\u001b[39;49;00m],\n",
            "                               [\u001b[94m1210.0\u001b[39;49;00m, \u001b[94m214114.0\u001b[39;49;00m],\n",
            "                               [\u001b[94m1697.0\u001b[39;49;00m, \u001b[94m277794.0\u001b[39;49;00m],\n",
            "                               ]\n",
            "                              )\n",
            "        expected_length_training_set = \u001b[94m4\u001b[39;49;00m\n",
            "        expected_length_testing_set = \u001b[94m2\u001b[39;49;00m\n",
            "        actual = split_into_training_and_testing_sets(test_argument)\n",
            ">       \u001b[94massert\u001b[39;49;00m actual[\u001b[94m0\u001b[39;49;00m].shape[\u001b[94m0\u001b[39;49;00m] == expected_length_training_set, \\\n",
            "               \u001b[33m\"\u001b[39;49;00m\u001b[33mThe actual number of rows in the training array is not 4\u001b[39;49;00m\u001b[33m\"\u001b[39;49;00m\n",
            "\u001b[1m\u001b[31mE       AssertionError: The actual number of rows in the training array is not 4\u001b[0m\n",
            "\u001b[1m\u001b[31mE       assert 1 == 4\u001b[0m\n",
            "\n",
            "\u001b[1m\u001b[31mtests/models/test_train.py\u001b[0m:21: AssertionError\n",
            "=========================== short test summary info ============================\n",
            "FAILED tests/models/test_train.py::TestSplitIntoTrainingAndTestingSets::test_on_six_rows\n",
            "\u001b[31m========================= \u001b[31m\u001b[1m1 failed\u001b[0m, \u001b[32m2 passed\u001b[0m\u001b[31m in 1.21s\u001b[0m\u001b[31m ==========================\u001b[0m\n"
          ],
          "name": "stdout"
        }
      ]
    },
    {
      "cell_type": "code",
      "metadata": {
        "colab": {
          "base_uri": "https://localhost:8080/"
        },
        "id": "ODma2mFEOOmH",
        "outputId": "058e4217-5784-4e10-9143-35ce57bb48b8"
      },
      "source": [
        "# Changing back to the correct version\n",
        "%%file /content/mypackages/uregress/uregress/models/train.py\n",
        "import numpy as np\n",
        "from scipy.stats import linregress\n",
        "\n",
        "\n",
        "def split_into_training_and_testing_sets(data_array):\n",
        "    dim = data_array.ndim\n",
        "    if dim != 2:\n",
        "        raise ValueError(\"Argument data_array must be two dimensional. Got {0} dimensional array instead!\".format(dim))\n",
        "    num_rows = data_array.shape[0]\n",
        "    if num_rows < 2:\n",
        "        raise ValueError(\"Argument data_array must have at least 2 rows, it actually has just {0}\".format(num_rows))\n",
        "    num_training = int(0.75 * data_array.shape[0])\n",
        "    permuted_indices = np.random.permutation(data_array.shape[0])\n",
        "    return data_array[permuted_indices[:num_training], :], data_array[permuted_indices[num_training:], :]\n",
        "\n",
        "\n",
        "def model_test(testing_set, slope, intercept):\n",
        "    dim = testing_set.ndim\n",
        "    if dim != 2:\n",
        "        raise ValueError(\"Argument testing_set must be two dimensional. Got {0} dimensional array instead!\".format(\n",
        "                            dim\n",
        "                            )\n",
        "                         )\n",
        "    num_cols = testing_set.shape[1]\n",
        "    if num_cols != 2:\n",
        "        raise ValueError(\"Argument testing_set must have 2 columns for univariate linear regression. \"\n",
        "                         \"It actually has {0} columns\".format(num_cols)\n",
        "                         )\n",
        "    actual_price = testing_set[:, 1]\n",
        "    predicted_price = slope*testing_set[:, 0] + intercept\n",
        "    residual_sum_of_squares = np.sum(np.square(predicted_price - actual_price)) / testing_set.shape[0]\n",
        "    return 1 - residual_sum_of_squares / np.var(actual_price)\n",
        "\n",
        "\n",
        "def train_model(training_set):\n",
        "    dim = training_set.ndim\n",
        "    if dim != 2:\n",
        "        raise ValueError(\"Argument training_set must be two dimensional. Got {0} dimensional array instead!\".format(\n",
        "                            dim\n",
        "                            )\n",
        "                         )\n",
        "    num_rows = training_set.shape[0]\n",
        "    if num_rows < 2:\n",
        "        raise ValueError(\"Argument training_set must have at least 2 rows for linear regression to work, \"\n",
        "                         \"it actually has just {0}\".format(num_rows)\n",
        "                         )\n",
        "    num_cols = training_set.shape[1]\n",
        "    if num_cols != 2:\n",
        "        raise ValueError(\"Argument training_set must have 2 columns for univariate linear regression. \"\n",
        "                         \"It actually has {0} columns\".format(num_cols)\n",
        "                         )\n",
        "    slope, intercept, _, _, _ = linregress(training_set[:, 0], training_set[:, 1])\n",
        "    return slope, intercept\n"
      ],
      "execution_count": null,
      "outputs": [
        {
          "output_type": "stream",
          "text": [
            "Overwriting /content/mypackages/uregress/uregress/models/train.py\n"
          ],
          "name": "stdout"
        }
      ]
    },
    {
      "cell_type": "code",
      "metadata": {
        "colab": {
          "base_uri": "https://localhost:8080/"
        },
        "id": "8pHRC565OY-1",
        "outputId": "bdb0bed6-1f55-4aef-fd60-335cbecf793b"
      },
      "source": [
        "# Run pytest again to see that the bug has been fixed.\n",
        "!pytest /content/mypackages/uregress/tests/models/test_train.py::TestSplitIntoTrainingAndTestingSets"
      ],
      "execution_count": null,
      "outputs": [
        {
          "output_type": "stream",
          "text": [
            "\u001b[1m============================= test session starts ==============================\u001b[0m\n",
            "platform linux -- Python 3.7.10, pytest-6.2.4, py-1.10.0, pluggy-0.13.1\n",
            "Matplotlib: 3.2.2\n",
            "Freetype: 2.6.1\n",
            "rootdir: /content/mypackages/uregress\n",
            "plugins: mock-3.6.1, mpl-0.12, typeguard-2.7.1\n",
            "collected 3 items                                                              \u001b[0m\n",
            "\n",
            "tests/models/test_train.py \u001b[32m.\u001b[0m\u001b[32m.\u001b[0m\u001b[32m.\u001b[0m\u001b[32m                                           [100%]\u001b[0m\n",
            "\n",
            "\u001b[32m============================== \u001b[32m\u001b[1m3 passed\u001b[0m\u001b[32m in 1.03s\u001b[0m\u001b[32m ===============================\u001b[0m\n"
          ],
          "name": "stdout"
        }
      ]
    },
    {
      "cell_type": "markdown",
      "metadata": {
        "id": "_hdmAYtiXm5n"
      },
      "source": [
        "A test class ```TestModelTest``` has been created within the test module ```models/test_train.py```. In the test class, there are two unit tests called ```test_on_linear_data()``` and ```test_on_one_dimensional_array()```. But the function ```model_test()``` has not been implemented yet."
      ]
    },
    {
      "cell_type": "code",
      "metadata": {
        "colab": {
          "base_uri": "https://localhost:8080/"
        },
        "id": "a8RXhRdwSdY-",
        "outputId": "249ddba9-746f-439c-fa9f-400a6c9e2e63"
      },
      "source": [
        "# Commenting out mmodel_test on purpose\n",
        "\n",
        "%%file /content/mypackages/uregress/uregress/models/train.py\n",
        "\n",
        "import numpy as np\n",
        "from scipy.stats import linregress\n",
        "\n",
        "\n",
        "def split_into_training_and_testing_sets(data_array):\n",
        "    dim = data_array.ndim\n",
        "    if dim != 2:\n",
        "        raise ValueError(\"Argument data_array must be two dimensional. Got {0} dimensional array instead!\".format(dim))\n",
        "    num_rows = data_array.shape[0]\n",
        "    if num_rows < 2:\n",
        "        raise ValueError(\"Argument data_array must have at least 2 rows, it actually has just {0}\".format(num_rows))\n",
        "    num_training = int(0.75 * data_array.shape[0])\n",
        "    permuted_indices = np.random.permutation(data_array.shape[0])\n",
        "    return data_array[permuted_indices[:num_training], :], data_array[permuted_indices[num_training:], :]\n",
        "\n",
        "\n",
        "# def model_test(testing_set, slope, intercept):\n",
        "#     dim = testing_set.ndim\n",
        "#     if dim != 2:\n",
        "#         raise ValueError(\"Argument testing_set must be two dimensional. Got {0} dimensional array instead!\".format(\n",
        "#                             dim\n",
        "#                             )\n",
        "#                          )\n",
        "#     num_cols = testing_set.shape[1]\n",
        "#     if num_cols != 2:\n",
        "#         raise ValueError(\"Argument testing_set must have 2 columns for univariate linear regression. \"\n",
        "#                          \"It actually has {0} columns\".format(num_cols)\n",
        "#                          )\n",
        "#     actual_price = testing_set[:, 1]\n",
        "#     predicted_price = slope*testing_set[:, 0] + intercept\n",
        "#     residual_sum_of_squares = np.sum(np.square(predicted_price - actual_price)) / testing_set.shape[0]\n",
        "#     return 1 - residual_sum_of_squares / np.var(actual_price)\n",
        "\n",
        "\n",
        "def train_model(training_set):\n",
        "    dim = training_set.ndim\n",
        "    if dim != 2:\n",
        "        raise ValueError(\"Argument training_set must be two dimensional. Got {0} dimensional array instead!\".format(\n",
        "                            dim\n",
        "                            )\n",
        "                         )\n",
        "    num_rows = training_set.shape[0]\n",
        "    if num_rows < 2:\n",
        "        raise ValueError(\"Argument training_set must have at least 2 rows for linear regression to work, \"\n",
        "                         \"it actually has just {0}\".format(num_rows)\n",
        "                         )\n",
        "    num_cols = training_set.shape[1]\n",
        "    if num_cols != 2:\n",
        "        raise ValueError(\"Argument training_set must have 2 columns for univariate linear regression. \"\n",
        "                         \"It actually has {0} columns\".format(num_cols)\n",
        "                         )\n",
        "    slope, intercept, _, _, _ = linregress(training_set[:, 0], training_set[:, 1])\n",
        "    return slope, intercept"
      ],
      "execution_count": 1,
      "outputs": [
        {
          "output_type": "stream",
          "text": [
            "Overwriting /content/mypackages/uregress/uregress/models/train.py\n"
          ],
          "name": "stdout"
        }
      ]
    },
    {
      "cell_type": "code",
      "metadata": {
        "colab": {
          "base_uri": "https://localhost:8080/"
        },
        "id": "ci_MgOZbVpnr",
        "outputId": "f1ea1268-8b1c-4e55-cc54-26bca1ed70f7"
      },
      "source": [
        "!pytest /content/mypackages/uregress/tests/models/test_train.py::TestModelTest"
      ],
      "execution_count": 6,
      "outputs": [
        {
          "output_type": "stream",
          "text": [
            "\u001b[1m============================= test session starts ==============================\u001b[0m\n",
            "platform linux -- Python 3.7.10, pytest-6.2.4, py-1.10.0, pluggy-0.13.1\n",
            "Matplotlib: 3.2.2\n",
            "Freetype: 2.6.1\n",
            "rootdir: /content/mypackages/uregress\n",
            "plugins: mock-3.6.1, mpl-0.12, typeguard-2.7.1\n",
            "collected 0 items / 1 error                                                    \u001b[0m\n",
            "\n",
            "==================================== ERRORS ====================================\n",
            "\u001b[31m\u001b[1m_________________ ERROR collecting tests/models/test_train.py __________________\u001b[0m\n",
            "\u001b[31mImportError while importing test module '/content/mypackages/uregress/tests/models/test_train.py'.\n",
            "Hint: make sure your test modules/packages have valid Python names.\n",
            "Traceback:\n",
            "/usr/lib/python3.7/importlib/__init__.py:127: in import_module\n",
            "    return _bootstrap._gcd_import(name[level:], package, level)\n",
            "mypackages/uregress/tests/models/test_train.py:5: in <module>\n",
            "    from uregress.models.train import split_into_training_and_testing_sets, train_model, model_test\n",
            "E   ImportError: cannot import name 'model_test' from 'uregress.models.train' (/content/mypackages/uregress/uregress/models/train.py)\u001b[0m\n",
            "=========================== short test summary info ============================\n",
            "ERROR mypackages/uregress/tests/models/test_train.py\n",
            "\u001b[31m=============================== \u001b[31m\u001b[1m1 error\u001b[0m\u001b[31m in 1.13s\u001b[0m\u001b[31m ===============================\u001b[0m\n",
            "\u001b[31mERROR: not found: /content/mypackages/uregress/tests/models/test_train.py::TestModelTest\n",
            "(no name '/content/mypackages/uregress/tests/models/test_train.py::TestModelTest' in any of [<Module test_train.py>])\n",
            "\u001b[0m\n"
          ],
          "name": "stdout"
        }
      ]
    },
    {
      "cell_type": "code",
      "metadata": {
        "id": "xXNjDTpJVsgl",
        "colab": {
          "base_uri": "https://localhost:8080/"
        },
        "outputId": "3a9a3046-be17-4e27-f38a-497faf1468b8"
      },
      "source": [
        "%%file /content/mypackages/uregress/tests/models/test_train.py\n",
        "from math import cos, pi, sin\n",
        "import numpy as np\n",
        "import pytest\n",
        "\n",
        "from uregress.models.train import split_into_training_and_testing_sets, train_model, model_test\n",
        "\n",
        "\n",
        "class TestSplitIntoTrainingAndTestingSets(object):\n",
        "    def test_on_six_rows(self):\n",
        "        test_argument = np.array([[2081.0, 314942.0],\n",
        "                               [1059.0, 186606.0],\n",
        "                               [1148.0, 206186.0],\n",
        "                               [1506.0, 248419.0],\n",
        "                               [1210.0, 214114.0],\n",
        "                               [1697.0, 277794.0],\n",
        "                               ]\n",
        "                              )\n",
        "        expected_length_training_set = 4\n",
        "        expected_length_testing_set = 2\n",
        "        actual = split_into_training_and_testing_sets(test_argument)\n",
        "        assert actual[0].shape[0] == expected_length_training_set, \\\n",
        "               \"The actual number of rows in the training array is not 4\"\n",
        "        assert actual[1].shape[0] == expected_length_testing_set, \\\n",
        "               \"The actual number of rows in the testing array is not 2\"\n",
        "\n",
        "    def test_on_one_row(self):\n",
        "        test_argument = np.array([[1382.0, 390167.0]])\n",
        "        with pytest.raises(ValueError) as exc_info:\n",
        "            split_into_training_and_testing_sets(test_argument)\n",
        "        expected_error_msg = \"Argument data_array must have at least 2 rows, it actually has just 1\"\n",
        "        assert exc_info.match(expected_error_msg)\n",
        "\n",
        "    def test_on_one_dimensional_array(self):\n",
        "        test_argument = np.array([1382.0, 390167.0])\n",
        "        with pytest.raises(ValueError) as exc_info:\n",
        "            split_into_training_and_testing_sets(test_argument)\n",
        "        expected_error_msg = \"Argument data_array must be two dimensional. Got 1 dimensional array instead!\"\n",
        "        assert exc_info.match(expected_error_msg)\n",
        "\n",
        "\n",
        "class TestTrainModel(object):\n",
        "    def test_on_linear_data(self):\n",
        "        test_argument = np.array([[1.0, 3.0], [2.0, 5.0], [3.0, 7.0]])\n",
        "        expected_slope = 2.0\n",
        "        expected_intercept = 1.0\n",
        "        actual_slope, actual_intercept = train_model(test_argument)\n",
        "        slope_message = (\"train_model({0}) should return slope {1}, \"\n",
        "                         \"but it actually returned slope {2}\".format(test_argument, expected_slope, actual_slope)\n",
        "                         )\n",
        "        intercept_message = (\"train_model({0}) should return intercept {1}, \"\n",
        "                             \"but it actually returned intercept {2}\".format(test_argument,\n",
        "                                                                             expected_intercept,\n",
        "                                                                             actual_intercept\n",
        "                                                                             )\n",
        "                             )\n",
        "        assert actual_slope == pytest.approx(expected_slope), slope_message\n",
        "        assert actual_intercept == pytest.approx(expected_intercept), intercept_message\n",
        "\n",
        "    def test_on_positively_correlated_data(self):\n",
        "        test_argument = np.array([[1.0, 4.0], [2.0, 4.0],\n",
        "                                  [3.0, 9.0], [4.0, 10.0],\n",
        "                                  [5.0, 7.0], [6.0, 13.0],\n",
        "                                  ]\n",
        "                                 )\n",
        "        actual_slope, actual_intercept = train_model(test_argument)\n",
        "        assert actual_slope > 0, \"Expected slope: > 0, Actual slope: {0}\".format(actual_slope)\n",
        "\n",
        "\n",
        "class TestModelTest(object):\n",
        "    def test_on_perfect_fit(self):\n",
        "        test_argument = np.array([[1.0, 3.0], [2.0, 5.0], [3.0, 7.0]])\n",
        "        expected = 1.0\n",
        "        actual = model_test(test_argument, 2.0, 1.0)\n",
        "        message = \"model_test({0}) should return {1}, but it actually returned {2}\".format(test_argument,\n",
        "                                                                                           expected,\n",
        "                                                                                           actual\n",
        "                                                                                           )\n",
        "        assert actual == pytest.approx(expected), message\n",
        "\n",
        "    def test_on_circular_data(self):\n",
        "        theta = pi / 4.0\n",
        "        test_argument = np.array([[0.0, 1.0],\n",
        "                                  [cos(theta), sin(theta)],\n",
        "                                  [1.0, 0.0],\n",
        "                                  [cos(3 * theta), sin(3 * theta)],\n",
        "                                  [0.0, -1.0],\n",
        "                                  [cos(5 * theta), sin(5 * theta)],\n",
        "                                  [-1.0, 0.0],\n",
        "                                  [cos(7 * theta), sin(7 * theta)]\n",
        "                                  ]\n",
        "                                 )\n",
        "        actual = model_test(test_argument, 0.0, 0.0)\n",
        "        assert actual == pytest.approx(0.0)\n",
        "\n",
        "    def test_on_one_dimensional_array(self):\n",
        "        test_argument = np.array([1.0, 2.0, 3.0, 4.0])\n",
        "        with pytest.raises(ValueError) as exc_info:\n",
        "            model_test(test_argument, 1.0, 1.0)\n",
        "        expected_error_msg = \"Argument testing_set must be two dimensional. Got 1 dimensional array instead!\"\n",
        "        assert exc_info.match(expected_error_msg)\n",
        "\n",
        "\n"
      ],
      "execution_count": 56,
      "outputs": [
        {
          "output_type": "stream",
          "text": [
            "Overwriting /content/mypackages/uregress/tests/models/test_train.py\n"
          ],
          "name": "stdout"
        }
      ]
    },
    {
      "cell_type": "code",
      "metadata": {
        "colab": {
          "base_uri": "https://localhost:8080/"
        },
        "id": "rS9Y5O0HdJoY",
        "outputId": "1f9b8cd4-ca04-46ff-c120-a412d2f9df5a"
      },
      "source": [
        "!pytest /content/mypackages/uregress/tests/models/test_train.py::TestModelTest"
      ],
      "execution_count": 8,
      "outputs": [
        {
          "output_type": "stream",
          "text": [
            "\u001b[1m============================= test session starts ==============================\u001b[0m\n",
            "platform linux -- Python 3.7.10, pytest-6.2.4, py-1.10.0, pluggy-0.13.1\n",
            "Matplotlib: 3.2.2\n",
            "Freetype: 2.6.1\n",
            "rootdir: /content/mypackages/uregress\n",
            "plugins: mock-3.6.1, mpl-0.12, typeguard-2.7.1\n",
            "collected 0 items / 1 error                                                    \u001b[0m\n",
            "\n",
            "==================================== ERRORS ====================================\n",
            "\u001b[31m\u001b[1m_________________ ERROR collecting tests/models/test_train.py __________________\u001b[0m\n",
            "\u001b[31mImportError while importing test module '/content/mypackages/uregress/tests/models/test_train.py'.\n",
            "Hint: make sure your test modules/packages have valid Python names.\n",
            "Traceback:\n",
            "/usr/lib/python3.7/importlib/__init__.py:127: in import_module\n",
            "    return _bootstrap._gcd_import(name[level:], package, level)\n",
            "mypackages/uregress/tests/models/test_train.py:5: in <module>\n",
            "    from uregress.models.train import split_into_training_and_testing_sets, train_model, model_test\n",
            "E   ImportError: cannot import name 'model_test' from 'uregress.models.train' (/content/mypackages/uregress/uregress/models/train.py)\u001b[0m\n",
            "=========================== short test summary info ============================\n",
            "ERROR mypackages/uregress/tests/models/test_train.py\n",
            "\u001b[31m=============================== \u001b[31m\u001b[1m1 error\u001b[0m\u001b[31m in 1.11s\u001b[0m\u001b[31m ===============================\u001b[0m\n",
            "\u001b[31mERROR: not found: /content/mypackages/uregress/tests/models/test_train.py::TestModelTest\n",
            "(no name '/content/mypackages/uregress/tests/models/test_train.py::TestModelTest' in any of [<Module test_train.py>])\n",
            "\u001b[0m\n"
          ],
          "name": "stdout"
        }
      ]
    },
    {
      "cell_type": "markdown",
      "metadata": {
        "id": "CusBrIYKdUCk"
      },
      "source": [
        "# ทำไม xfail ใช้ไม่ได้ ?\n",
        "\n"
      ]
    },
    {
      "cell_type": "code",
      "metadata": {
        "colab": {
          "base_uri": "https://localhost:8080/"
        },
        "id": "027LXNvbdP9X",
        "outputId": "34125222-4db7-4473-bb7a-65adc2c365fa"
      },
      "source": [
        "# Change back to normal code\n",
        "\n",
        "%%file /content/mypackages/uregress/uregress/models/train.py\n",
        "\n",
        "import numpy as np\n",
        "from scipy.stats import linregress\n",
        "\n",
        "\n",
        "def split_into_training_and_testing_sets(data_array):\n",
        "    dim = data_array.ndim\n",
        "    if dim != 2:\n",
        "        raise ValueError(\"Argument data_array must be two dimensional. Got {0} dimensional array instead!\".format(dim))\n",
        "    num_rows = data_array.shape[0]\n",
        "    if num_rows < 2:\n",
        "        raise ValueError(\"Argument data_array must have at least 2 rows, it actually has just {0}\".format(num_rows))\n",
        "    num_training = int(0.75 * data_array.shape[0])\n",
        "    permuted_indices = np.random.permutation(data_array.shape[0])\n",
        "    return data_array[permuted_indices[:num_training], :], data_array[permuted_indices[num_training:], :]\n",
        "\n",
        "\n",
        "def model_test(testing_set, slope, intercept):\n",
        "    dim = testing_set.ndim\n",
        "    if dim != 2:\n",
        "        raise ValueError(\"Argument testing_set must be two dimensional. Got {0} dimensional array instead!\".format(\n",
        "                            dim\n",
        "                            )\n",
        "                         )\n",
        "    num_cols = testing_set.shape[1]\n",
        "    if num_cols != 2:\n",
        "        raise ValueError(\"Argument testing_set must have 2 columns for univariate linear regression. \"\n",
        "                         \"It actually has {0} columns\".format(num_cols)\n",
        "                         )\n",
        "    actual_price = testing_set[:, 1]\n",
        "    predicted_price = slope*testing_set[:, 0] + intercept\n",
        "    residual_sum_of_squares = np.sum(np.square(predicted_price - actual_price)) / testing_set.shape[0]\n",
        "    return 1 - residual_sum_of_squares / np.var(actual_price)\n",
        "\n",
        "\n",
        "def train_model(training_set):\n",
        "    dim = training_set.ndim\n",
        "    if dim != 2:\n",
        "        raise ValueError(\"Argument training_set must be two dimensional. Got {0} dimensional array instead!\".format(\n",
        "                            dim\n",
        "                            )\n",
        "                         )\n",
        "    num_rows = training_set.shape[0]\n",
        "    if num_rows < 2:\n",
        "        raise ValueError(\"Argument training_set must have at least 2 rows for linear regression to work, \"\n",
        "                         \"it actually has just {0}\".format(num_rows)\n",
        "                         )\n",
        "    num_cols = training_set.shape[1]\n",
        "    if num_cols != 2:\n",
        "        raise ValueError(\"Argument training_set must have 2 columns for univariate linear regression. \"\n",
        "                         \"It actually has {0} columns\".format(num_cols)\n",
        "                         )\n",
        "    slope, intercept, _, _, _ = linregress(training_set[:, 0], training_set[:, 1])\n",
        "    return slope, intercept"
      ],
      "execution_count": 9,
      "outputs": [
        {
          "output_type": "stream",
          "text": [
            "Overwriting /content/mypackages/uregress/uregress/models/train.py\n"
          ],
          "name": "stdout"
        }
      ]
    },
    {
      "cell_type": "code",
      "metadata": {
        "colab": {
          "base_uri": "https://localhost:8080/"
        },
        "id": "TyihhGsAdv-G",
        "outputId": "3cd964c3-b476-482b-fee8-6b448e27198f"
      },
      "source": [
        "!pytest /content/mypackages/uregress/tests/models/test_train.py::TestModelTest"
      ],
      "execution_count": 12,
      "outputs": [
        {
          "output_type": "stream",
          "text": [
            "\u001b[1m============================= test session starts ==============================\u001b[0m\n",
            "platform linux -- Python 3.7.10, pytest-6.2.4, py-1.10.0, pluggy-0.13.1\n",
            "Matplotlib: 3.2.2\n",
            "Freetype: 2.6.1\n",
            "rootdir: /content/mypackages/uregress\n",
            "plugins: mock-3.6.1, mpl-0.12, typeguard-2.7.1\n",
            "collected 3 items                                                              \u001b[0m\n",
            "\n",
            "mypackages/uregress/tests/models/test_train.py \u001b[32m.\u001b[0m\u001b[32m.\u001b[0m\u001b[32m.\u001b[0m\u001b[32m                       [100%]\u001b[0m\n",
            "\n",
            "\u001b[32m============================== \u001b[32m\u001b[1m3 passed\u001b[0m\u001b[32m in 1.06s\u001b[0m\u001b[32m ===============================\u001b[0m\n"
          ],
          "name": "stdout"
        }
      ]
    },
    {
      "cell_type": "markdown",
      "metadata": {
        "id": "IhRMMuZzeoi7"
      },
      "source": [
        "```range()``` has been deliberately replaced with the obsolete ```xrange()``` in the function /content/mypackages/uregress/uregress/features/as_numpy.py >>> get_data_as_numpy_array"
      ]
    },
    {
      "cell_type": "markdown",
      "metadata": {
        "id": "wtF4RofgfV15"
      },
      "source": [
        "Run the tests in the test class ```TestGetDataAsNumpyArray``` in the IPython console. What is the outcome?"
      ]
    },
    {
      "cell_type": "code",
      "metadata": {
        "colab": {
          "base_uri": "https://localhost:8080/"
        },
        "id": "VUa-ygDyfRTW",
        "outputId": "b2267eaa-8dc4-4f71-a9ad-d31801645d88"
      },
      "source": [
        "!pytest -k \"TestGetDataAsNumpyArray\""
      ],
      "execution_count": 14,
      "outputs": [
        {
          "output_type": "stream",
          "text": [
            "\u001b[1m============================= test session starts ==============================\u001b[0m\n",
            "platform linux -- Python 3.7.10, pytest-6.2.4, py-1.10.0, pluggy-0.13.1\n",
            "Matplotlib: 3.2.2\n",
            "Freetype: 2.6.1\n",
            "rootdir: /content\n",
            "plugins: mock-3.6.1, mpl-0.12, typeguard-2.7.1\n",
            "collected 26 items / 24 deselected / 2 selected                                \u001b[0m\n",
            "\n",
            "mypackages/uregress/tests/features/test_as_numpy.py \u001b[31mF\u001b[0m\u001b[31mF\u001b[0m\u001b[31m                   [100%]\u001b[0m\n",
            "\n",
            "=================================== FAILURES ===================================\n",
            "\u001b[31m\u001b[1m__________________ TestGetDataAsNumpyArray.test_on_clean_file __________________\u001b[0m\n",
            "\n",
            "self = <tests.features.test_as_numpy.TestGetDataAsNumpyArray object at 0x7f1cd83b6950>\n",
            "clean_data_file = 'clean.txt'\n",
            "\n",
            "    \u001b[94mdef\u001b[39;49;00m \u001b[92mtest_on_clean_file\u001b[39;49;00m(\u001b[96mself\u001b[39;49;00m, clean_data_file):\n",
            "        expected = np.array([[\u001b[94m201.0\u001b[39;49;00m, \u001b[94m305671.0\u001b[39;49;00m], [\u001b[94m7892.0\u001b[39;49;00m, \u001b[94m298140.0\u001b[39;49;00m], [\u001b[94m501.0\u001b[39;49;00m, \u001b[94m738293.0\u001b[39;49;00m]])\n",
            ">       actual = get_data_as_numpy_array(clean_data_file, \u001b[94m2\u001b[39;49;00m)\n",
            "\n",
            "\u001b[1m\u001b[31mmypackages/uregress/tests/features/test_as_numpy.py\u001b[0m:28: \n",
            "_ _ _ _ _ _ _ _ _ _ _ _ _ _ _ _ _ _ _ _ _ _ _ _ _ _ _ _ _ _ _ _ _ _ _ _ _ _ _ _ \n",
            "\n",
            "clean_data_file_path = 'clean.txt', num_columns = 2\n",
            "\n",
            "    \u001b[94mdef\u001b[39;49;00m \u001b[92mget_data_as_numpy_array\u001b[39;49;00m(clean_data_file_path, num_columns):\n",
            "        result = np.empty((\u001b[94m0\u001b[39;49;00m, num_columns))\n",
            "        \u001b[94mwith\u001b[39;49;00m \u001b[96mopen\u001b[39;49;00m(clean_data_file_path, \u001b[33m\"\u001b[39;49;00m\u001b[33mr\u001b[39;49;00m\u001b[33m\"\u001b[39;49;00m) \u001b[94mas\u001b[39;49;00m f:\n",
            "            rows = f.readlines()\n",
            ">           \u001b[94mfor\u001b[39;49;00m row_num \u001b[95min\u001b[39;49;00m xrange(\u001b[96mlen\u001b[39;49;00m(rows)):\n",
            "\u001b[1m\u001b[31mE           NameError: name 'xrange' is not defined\u001b[0m\n",
            "\n",
            "\u001b[1m\u001b[31mmypackages/uregress/uregress/features/as_numpy.py\u001b[0m:8: NameError\n",
            "\u001b[31m\u001b[1m__________________ TestGetDataAsNumpyArray.test_on_empty_file __________________\u001b[0m\n",
            "\n",
            "self = <tests.features.test_as_numpy.TestGetDataAsNumpyArray object at 0x7f1cd8382850>\n",
            "empty_file = 'empty.txt'\n",
            "\n",
            "    \u001b[94mdef\u001b[39;49;00m \u001b[92mtest_on_empty_file\u001b[39;49;00m(\u001b[96mself\u001b[39;49;00m, empty_file):\n",
            "        expected = np.empty((\u001b[94m0\u001b[39;49;00m, \u001b[94m2\u001b[39;49;00m))\n",
            ">       actual = get_data_as_numpy_array(empty_file, \u001b[94m2\u001b[39;49;00m)\n",
            "\n",
            "\u001b[1m\u001b[31mmypackages/uregress/tests/features/test_as_numpy.py\u001b[0m:33: \n",
            "_ _ _ _ _ _ _ _ _ _ _ _ _ _ _ _ _ _ _ _ _ _ _ _ _ _ _ _ _ _ _ _ _ _ _ _ _ _ _ _ \n",
            "\n",
            "clean_data_file_path = 'empty.txt', num_columns = 2\n",
            "\n",
            "    \u001b[94mdef\u001b[39;49;00m \u001b[92mget_data_as_numpy_array\u001b[39;49;00m(clean_data_file_path, num_columns):\n",
            "        result = np.empty((\u001b[94m0\u001b[39;49;00m, num_columns))\n",
            "        \u001b[94mwith\u001b[39;49;00m \u001b[96mopen\u001b[39;49;00m(clean_data_file_path, \u001b[33m\"\u001b[39;49;00m\u001b[33mr\u001b[39;49;00m\u001b[33m\"\u001b[39;49;00m) \u001b[94mas\u001b[39;49;00m f:\n",
            "            rows = f.readlines()\n",
            ">           \u001b[94mfor\u001b[39;49;00m row_num \u001b[95min\u001b[39;49;00m xrange(\u001b[96mlen\u001b[39;49;00m(rows)):\n",
            "\u001b[1m\u001b[31mE           NameError: name 'xrange' is not defined\u001b[0m\n",
            "\n",
            "\u001b[1m\u001b[31mmypackages/uregress/uregress/features/as_numpy.py\u001b[0m:8: NameError\n",
            "=========================== short test summary info ============================\n",
            "FAILED mypackages/uregress/tests/features/test_as_numpy.py::TestGetDataAsNumpyArray::test_on_clean_file\n",
            "FAILED mypackages/uregress/tests/features/test_as_numpy.py::TestGetDataAsNumpyArray::test_on_empty_file\n",
            "\u001b[31m======================= \u001b[31m\u001b[1m2 failed\u001b[0m, \u001b[33m24 deselected\u001b[0m\u001b[31m in 1.21s\u001b[0m\u001b[31m =======================\u001b[0m\n"
          ],
          "name": "stdout"
        }
      ]
    },
    {
      "cell_type": "markdown",
      "metadata": {
        "id": "INPTDGx0frDC"
      },
      "source": [
        "ลองใส่ skipif ที่ไฟล์ /content/mypackages/uregress/tests/features/test_as_numpy.py"
      ]
    },
    {
      "cell_type": "markdown",
      "metadata": {
        "id": "geYwnI_Dg8FX"
      },
      "source": [
        "# สรุป xfail และ skipif ใช้ไม่ได้ทั้งคู่"
      ]
    },
    {
      "cell_type": "code",
      "metadata": {
        "colab": {
          "base_uri": "https://localhost:8080/"
        },
        "id": "X13wUIBxydQT",
        "outputId": "57dc4927-d6d6-49ca-8897-971bba23cdcf"
      },
      "source": [
        "%%file /content/mypackages/uregress/.travis.yml\n",
        "language: python\n",
        "python: \n",
        "  - \"3.6\"\n",
        "install:\n",
        "  - pip install -e .\n",
        "  - pip install  pytest-cov codecov\n",
        "script:\n",
        "  - pytest --cov=uregress tests\n",
        "after_success:\n",
        "  codecov\n"
      ],
      "execution_count": 32,
      "outputs": [
        {
          "output_type": "stream",
          "text": [
            "Overwriting /content/mypackages/uregress/.travis.yml\n"
          ],
          "name": "stdout"
        }
      ]
    },
    {
      "cell_type": "code",
      "metadata": {
        "colab": {
          "base_uri": "https://localhost:8080/"
        },
        "id": "Igs46esJznDC",
        "outputId": "cb84ed06-40b8-4559-9ab5-1f90847f9115"
      },
      "source": [
        "!pip install  pytest-cov codecov"
      ],
      "execution_count": 33,
      "outputs": [
        {
          "output_type": "stream",
          "text": [
            "Collecting pytest-cov\n",
            "  Downloading https://files.pythonhosted.org/packages/2c/70/184e8f4804b21dca4d78b6b76414c9d3b29cedbdef7ba28cdf14fe7de3e0/pytest_cov-2.12.0-py2.py3-none-any.whl\n",
            "Collecting codecov\n",
            "  Downloading https://files.pythonhosted.org/packages/93/9f/bbea5b6231308458963cb5c067bc5643da9949689702fa5a382714b59699/codecov-2.1.11-py2.py3-none-any.whl\n",
            "Collecting coverage[toml]>=5.2.1\n",
            "\u001b[?25l  Downloading https://files.pythonhosted.org/packages/16/e0/fc9f7bd9b84e6b41d0aad1a113e36714aac0c0a9b307aca5f9af443bc50f/coverage-5.5-cp37-cp37m-manylinux2010_x86_64.whl (242kB)\n",
            "\u001b[K     |████████████████████████████████| 245kB 11.9MB/s \n",
            "\u001b[?25hRequirement already satisfied: pytest>=4.6 in /usr/local/lib/python3.7/dist-packages (from pytest-cov) (6.2.4)\n",
            "Requirement already satisfied: requests>=2.7.9 in /usr/local/lib/python3.7/dist-packages (from codecov) (2.23.0)\n",
            "Requirement already satisfied: toml; extra == \"toml\" in /usr/local/lib/python3.7/dist-packages (from coverage[toml]>=5.2.1->pytest-cov) (0.10.2)\n",
            "Requirement already satisfied: attrs>=19.2.0 in /usr/local/lib/python3.7/dist-packages (from pytest>=4.6->pytest-cov) (21.2.0)\n",
            "Requirement already satisfied: iniconfig in /usr/local/lib/python3.7/dist-packages (from pytest>=4.6->pytest-cov) (1.1.1)\n",
            "Requirement already satisfied: pluggy<1.0.0a1,>=0.12 in /usr/local/lib/python3.7/dist-packages (from pytest>=4.6->pytest-cov) (0.13.1)\n",
            "Requirement already satisfied: py>=1.8.2 in /usr/local/lib/python3.7/dist-packages (from pytest>=4.6->pytest-cov) (1.10.0)\n",
            "Requirement already satisfied: packaging in /usr/local/lib/python3.7/dist-packages (from pytest>=4.6->pytest-cov) (20.9)\n",
            "Requirement already satisfied: importlib-metadata>=0.12; python_version < \"3.8\" in /usr/local/lib/python3.7/dist-packages (from pytest>=4.6->pytest-cov) (4.0.1)\n",
            "Requirement already satisfied: certifi>=2017.4.17 in /usr/local/lib/python3.7/dist-packages (from requests>=2.7.9->codecov) (2020.12.5)\n",
            "Requirement already satisfied: idna<3,>=2.5 in /usr/local/lib/python3.7/dist-packages (from requests>=2.7.9->codecov) (2.10)\n",
            "Requirement already satisfied: chardet<4,>=3.0.2 in /usr/local/lib/python3.7/dist-packages (from requests>=2.7.9->codecov) (3.0.4)\n",
            "Requirement already satisfied: urllib3!=1.25.0,!=1.25.1,<1.26,>=1.21.1 in /usr/local/lib/python3.7/dist-packages (from requests>=2.7.9->codecov) (1.24.3)\n",
            "Requirement already satisfied: pyparsing>=2.0.2 in /usr/local/lib/python3.7/dist-packages (from packaging->pytest>=4.6->pytest-cov) (2.4.7)\n",
            "Requirement already satisfied: typing-extensions>=3.6.4; python_version < \"3.8\" in /usr/local/lib/python3.7/dist-packages (from importlib-metadata>=0.12; python_version < \"3.8\"->pytest>=4.6->pytest-cov) (3.7.4.3)\n",
            "Requirement already satisfied: zipp>=0.5 in /usr/local/lib/python3.7/dist-packages (from importlib-metadata>=0.12; python_version < \"3.8\"->pytest>=4.6->pytest-cov) (3.4.1)\n",
            "\u001b[31mERROR: datascience 0.10.6 has requirement coverage==3.7.1, but you'll have coverage 5.5 which is incompatible.\u001b[0m\n",
            "\u001b[31mERROR: datascience 0.10.6 has requirement folium==0.2.1, but you'll have folium 0.8.3 which is incompatible.\u001b[0m\n",
            "\u001b[31mERROR: coveralls 0.5 has requirement coverage<3.999,>=3.6, but you'll have coverage 5.5 which is incompatible.\u001b[0m\n",
            "Installing collected packages: coverage, pytest-cov, codecov\n",
            "  Found existing installation: coverage 3.7.1\n",
            "    Uninstalling coverage-3.7.1:\n",
            "      Successfully uninstalled coverage-3.7.1\n",
            "Successfully installed codecov-2.1.11 coverage-5.5 pytest-cov-2.12.0\n"
          ],
          "name": "stdout"
        }
      ]
    },
    {
      "cell_type": "code",
      "metadata": {
        "colab": {
          "base_uri": "https://localhost:8080/"
        },
        "id": "s_XvQW-a019r",
        "outputId": "1207f033-15a9-4728-e0d0-d62fe547b0b8"
      },
      "source": [
        "!pytest --cov=/content/mypackages/uregress/tests"
      ],
      "execution_count": 35,
      "outputs": [
        {
          "output_type": "stream",
          "text": [
            "\u001b[1m============================= test session starts ==============================\u001b[0m\n",
            "platform linux -- Python 3.7.10, pytest-6.2.4, py-1.10.0, pluggy-0.13.1\n",
            "Matplotlib: 3.2.2\n",
            "Freetype: 2.6.1\n",
            "rootdir: /content\n",
            "plugins: cov-2.12.0, mock-3.6.1, mpl-0.12, typeguard-2.7.1\n",
            "collected 26 items                                                             \u001b[0m\n",
            "\n",
            "mypackages/uregress/tests/data/test_preprocessing_helpers.py \u001b[32m.\u001b[0m\u001b[32m.\u001b[0m\u001b[32m.\u001b[0m\u001b[32m.\u001b[0m\u001b[32m.\u001b[0m\u001b[32m.\u001b[0m\u001b[32m.\u001b[0m\u001b[32m.\u001b[0m\u001b[32m.\u001b[0m\u001b[32m.\u001b[0m\u001b[32m.\u001b[0m\u001b[32m [ 42%]\n",
            "\u001b[0m\u001b[32m.\u001b[0m\u001b[32m.\u001b[0m\u001b[32m.\u001b[0m\u001b[32m                                                                      [ 53%]\u001b[0m\n",
            "mypackages/uregress/tests/features/test_as_numpy.py \u001b[32m.\u001b[0m\u001b[32m.\u001b[0m\u001b[32m                   [ 61%]\u001b[0m\n",
            "mypackages/uregress/tests/models/test_train.py \u001b[32m.\u001b[0m\u001b[32m.\u001b[0m\u001b[32m.\u001b[0m\u001b[32m.\u001b[0m\u001b[32m.\u001b[0m\u001b[32m.\u001b[0m\u001b[32m.\u001b[0m\u001b[32m.\u001b[0m\u001b[32m                  [ 92%]\u001b[0m\n",
            "mypackages/uregress/tests/visualization/test_plots.py \u001b[32m.\u001b[0m\u001b[32m.\u001b[0m\u001b[32m                 [100%]\u001b[0m\n",
            "\n",
            "---------- coverage: platform linux, python 3.7.10-final-0 -----------\n",
            "Name                                                           Stmts   Miss  Cover\n",
            "----------------------------------------------------------------------------------\n",
            "mypackages/uregress/tests/__init__.py                              1      0   100%\n",
            "mypackages/uregress/tests/data/__init__.py                         1      0   100%\n",
            "mypackages/uregress/tests/data/test_preprocessing_helpers.py      84      0   100%\n",
            "mypackages/uregress/tests/features/__init__.py                     1      0   100%\n",
            "mypackages/uregress/tests/features/test_as_numpy.py               25      0   100%\n",
            "mypackages/uregress/tests/models/__init__.py                       1      0   100%\n",
            "mypackages/uregress/tests/models/test_train.py                    56      0   100%\n",
            "mypackages/uregress/tests/visualization/__init__.py                1      0   100%\n",
            "mypackages/uregress/tests/visualization/test_plots.py             18      0   100%\n",
            "----------------------------------------------------------------------------------\n",
            "TOTAL                                                            188      0   100%\n",
            "\n",
            "\n",
            "\u001b[32m============================== \u001b[32m\u001b[1m26 passed\u001b[0m\u001b[32m in 1.70s\u001b[0m\u001b[32m ==============================\u001b[0m\n"
          ],
          "name": "stdout"
        }
      ]
    },
    {
      "cell_type": "code",
      "metadata": {
        "colab": {
          "base_uri": "https://localhost:8080/"
        },
        "id": "YehXbLeF08gi",
        "outputId": "4fc5ba95-06b5-483e-d8b5-a3482a1d17c1"
      },
      "source": [
        "import codecov\n",
        "!codecov"
      ],
      "execution_count": 37,
      "outputs": [
        {
          "output_type": "stream",
          "text": [
            "\n",
            "      _____          _\n",
            "     / ____|        | |\n",
            "    | |     ___   __| | ___  ___ _____   __\n",
            "    | |    / _ \\ / _  |/ _ \\/ __/ _ \\ \\ / /\n",
            "    | |___| (_) | (_| |  __/ (_| (_) \\ V /\n",
            "     \\_____\\___/ \\____|\\___|\\___\\___/ \\_/\n",
            "                                    v2.1.11\n",
            "\n",
            "\u001b[90m==>\u001b[0m Detecting CI provider\n",
            "fatal: not a git repository (or any of the parent directories): .git\n",
            "    Error running `['git', 'rev-parse', '--abbrev-ref', 'HEAD']`: returncode=128, output=b''\n",
            "    Error running `['hg', 'branch']`: returncode=None, output=[Errno 2] No such file or directory: 'hg': 'hg'\n",
            "  -> Got branch from git/hg\n",
            "fatal: not a git repository (or any of the parent directories): .git\n",
            "    Error running `['git', 'rev-parse', 'HEAD']`: returncode=128, output=b''\n",
            "    Error running `['hg', 'log', '-r', '.', '-T', '{node}']`: returncode=None, output=[Errno 2] No such file or directory: 'hg': 'hg'\n",
            "  -> Got sha from git/hg\n",
            "\u001b[90m==>\u001b[0m Preparing upload\n",
            "\u001b[41mError:\u001b[0m\u001b[91m Commit sha is missing. Please specify via --commit=:sha\u001b[0m\n",
            "\u001b[42mTip:\u001b[0m\u001b[32m See all example repositories: https://github.com/codecov?query=example\u001b[0m\n"
          ],
          "name": "stdout"
        }
      ]
    },
    {
      "cell_type": "markdown",
      "metadata": {
        "id": "MFW4WaQQ1bhd"
      },
      "source": [
        "# ควรจะต้องทำบน github แบบเป็นเรื่องเป็นราว ไว้ทีหลัง"
      ]
    },
    {
      "cell_type": "code",
      "metadata": {
        "id": "NVHY5vpi1MZG"
      },
      "source": [
        "%%file /content/mypackages/uregress/uregress/data/preprocessing_helpers.py\n",
        "\n",
        "def convert_to_int(integer_string_with_commas):\n",
        "    comma_separated_parts = integer_string_with_commas.split(\",\")\n",
        "    for i in range(len(comma_separated_parts)):\n",
        "        if len(comma_separated_parts[i]) > 3:\n",
        "            return None\n",
        "        if i != 0 and len(comma_separated_parts[i]) != 3:\n",
        "            return None\n",
        "    integer_string_without_commas = \"\".join(comma_separated_parts)\n",
        "    try:\n",
        "        return int(integer_string_without_commas)\n",
        "    except ValueError:\n",
        "        return None\n",
        "\n",
        "\n",
        "def row_to_list(row):\n",
        "    row = row.rstrip(\"\\n\")\n",
        "    separated_entries = row.split(\"\\t\")\n",
        "    if len(separated_entries) == 2 and \"\" not in separated_entries:\n",
        "        return separated_entries\n",
        "    return None\n",
        "\n",
        "\n",
        "def preprocess(raw_data_file_path, clean_data_file_path):\n",
        "    with open(raw_data_file_path, \"r\") as input_file:\n",
        "        rows = input_file.readlines()\n",
        "    with open(clean_data_file_path, \"w\") as output_file:\n",
        "        for row in rows:\n",
        "            row_as_list = row_to_list(row)\n",
        "            if row_as_list is None:\n",
        "                continue\n",
        "            area = convert_to_int(row_as_list[0])\n",
        "            price = convert_to_int(row_as_list[1])\n",
        "            if area is None or price is None:\n",
        "                continue\n",
        "            output_file.write(\"{0}\\t{1}\\n\".format(area, price))"
      ],
      "execution_count": null,
      "outputs": []
    },
    {
      "cell_type": "markdown",
      "metadata": {
        "id": "SxeMSW-w7z9b"
      },
      "source": [
        "# Use a fixture for a clean data file\n",
        "# Write a fixture for an empty data file\n",
        "# Fixture chaining using tmpdir\n",
        "\n",
        "## ดูตัวอย่างไฟล์ได้ที่\n",
        "/content/mypackages/uregress/tests/features/test_as_numpy.py"
      ]
    },
    {
      "cell_type": "markdown",
      "metadata": {
        "id": "xaDl0GmkFBPy"
      },
      "source": [
        "# Program a bug-free dependency\n",
        "# Mock a dependency\n",
        "\n",
        "\n",
        "/content/mypackages/uregress/tests/data/test_preprocessing_helpers.py"
      ]
    },
    {
      "cell_type": "markdown",
      "metadata": {
        "id": "3oN39N4rLMJt"
      },
      "source": [
        "# Testing on linear data\n",
        "# Testing on circular data\n",
        "/content/mypackages/uregress/data/circula_data.png\n",
        "\n",
        "/content/mypackages/uregress/tests/models/test_train.py"
      ]
    },
    {
      "cell_type": "markdown",
      "metadata": {
        "id": "OYXNkdqVSMIA"
      },
      "source": [
        "# Generating the Baseline Images\n",
        "```/content/mypackages/uregress/uregress/visualization/plots.py```\n",
        "\n",
        "```/content/mypackages/uregress/tests/visualization/test_plots.py```\n",
        "\n",
        "## Use the command (in case the directories have not yet been built.)\n",
        "\n",
        "```!pytest -k \"test_plot_for_linear_data\" --mpl-generate-path /content/mypackages/uregress/tests/visualization/baseline```\n",
        "\n",
        "```!pytest -k \"test_plot_for_almost_linear_data\" --mpl-generate-path /content/mypackages/uregress/tests/visualization/baseline```\n",
        "\n",
        "## The next time we run the test, just type\n",
        "\n",
        "```!pytest -k \"test_plot_for_linear_data\" --mpl```\n",
        "\n",
        "```!pytest -k \"test_plot_for_almost_linear_data\" --mpl```\n",
        "\n",
        "### ถ้าภาพไม่เหมือนกันจะถูกนำไปเก็บไว้ที่ temporary folder"
      ]
    },
    {
      "cell_type": "markdown",
      "metadata": {
        "id": "wvs6vLqxV7FJ"
      },
      "source": [
        "# Generate the baseline image EXERCISE\n",
        "\n",
        "\n",
        "\n",
        "*   Execute the command required to create the baseline image for this test only. The baseline folder should be in ```uregress/tests/visualization```\n",
        "\n"
      ]
    },
    {
      "cell_type": "code",
      "metadata": {
        "colab": {
          "base_uri": "https://localhost:8080/"
        },
        "id": "0QDNraHJZn1R",
        "outputId": "7f1f67ef-bd8d-4810-96d1-afe845ea9e70"
      },
      "source": [
        "### Generate wrong axis label on purpose\n",
        "\n",
        "%%file /content/mypackages/uregress/uregress/visualization/plots.py\n",
        "import matplotlib.pyplot as plt\n",
        "import numpy as np\n",
        "\n",
        "\n",
        "def get_plot_for_best_fit_line(slope, intercept, x_array, y_array, title):\n",
        "    x_array_ndim = x_array.ndim\n",
        "    if not x_array_ndim == 1:\n",
        "        raise ValueError(\"Argument x_array should be 1 dimensional. \"\n",
        "                         \"It actually is {0} dimensional\".format(x_array_ndim)\n",
        "                         )\n",
        "    y_array_ndim = y_array.ndim\n",
        "    if not y_array_ndim == 1:\n",
        "        raise ValueError(\"Argument y_array should be 1 dimensional. \"\n",
        "                         \"It actually is {0} dimensional\".format(y_array_ndim)\n",
        "                         )\n",
        "    x_array_length = x_array.shape[0]\n",
        "    y_array_length = y_array.shape[0]\n",
        "    if x_array_length != y_array_length:\n",
        "        raise RuntimeError(\"Arguments x_array and y_array should have same length. \"\n",
        "                           \"But x_array has length {0} and y_array has length {1}\".format(x_array_length,\n",
        "                                                                                          y_array_length\n",
        "                                                                                          )\n",
        "                           )\n",
        "    fig, ax = plt.subplots()\n",
        "    ax.plot(x_array, y_array, \".\")\n",
        "    ax.plot([0, np.max(x_array)], [intercept, slope * np.max(x_array) + intercept], \"-\")\n",
        "    ax.set(xlabel=\"price (dollars)\", ylabel=\"area (square feet)\", title=title)\n",
        "    return fig\n"
      ],
      "execution_count": 65,
      "outputs": [
        {
          "output_type": "stream",
          "text": [
            "Overwriting /content/mypackages/uregress/uregress/visualization/plots.py\n"
          ],
          "name": "stdout"
        }
      ]
    },
    {
      "cell_type": "code",
      "metadata": {
        "colab": {
          "base_uri": "https://localhost:8080/"
        },
        "id": "kR3CZ4GdJ8zc",
        "outputId": "dc0cd443-db50-4011-ce27-02c3fc080877"
      },
      "source": [
        "!pytest --mpl-generate-path /content/mypackages/uregress/tests/visualization/baseline -k \"test_plot_for_almost_linear_data\"\n",
        "!pytest --mpl-generate-path /content/mypackages/uregress/tests/visualization/baseline -k \"test_plot_for_linear_data\""
      ],
      "execution_count": 64,
      "outputs": [
        {
          "output_type": "stream",
          "text": [
            "\u001b[1m============================= test session starts ==============================\u001b[0m\n",
            "platform linux -- Python 3.7.10, pytest-6.2.4, py-1.10.0, pluggy-0.13.1\n",
            "Matplotlib: 3.2.2\n",
            "Freetype: 2.6.1\n",
            "rootdir: /content\n",
            "plugins: cov-2.12.0, mock-3.6.1, mpl-0.12, typeguard-2.7.1\n",
            "collected 26 items / 25 deselected / 1 selected                                \u001b[0m\n",
            "\n",
            "mypackages/uregress/tests/visualization/test_plots.py \u001b[33ms\u001b[0m\u001b[33m                  [100%]\u001b[0m\n",
            "\n",
            "\u001b[33m====================== \u001b[33m\u001b[1m1 skipped\u001b[0m, \u001b[33m\u001b[1m25 deselected\u001b[0m\u001b[33m in 1.21s\u001b[0m\u001b[33m =======================\u001b[0m\n",
            "\u001b[1m============================= test session starts ==============================\u001b[0m\n",
            "platform linux -- Python 3.7.10, pytest-6.2.4, py-1.10.0, pluggy-0.13.1\n",
            "Matplotlib: 3.2.2\n",
            "Freetype: 2.6.1\n",
            "rootdir: /content/mypackages/uregress\n",
            "plugins: cov-2.12.0, mock-3.6.1, mpl-0.12, typeguard-2.7.1\n",
            "collected 26 items / 25 deselected / 1 selected                                \u001b[0m\n",
            "\n",
            "mypackages/uregress/tests/visualization/test_plots.py \u001b[33ms\u001b[0m\u001b[33m                  [100%]\u001b[0m\n",
            "\n",
            "\u001b[33m====================== \u001b[33m\u001b[1m1 skipped\u001b[0m, \u001b[33m\u001b[1m25 deselected\u001b[0m\u001b[33m in 1.22s\u001b[0m\u001b[33m =======================\u001b[0m\n"
          ],
          "name": "stdout"
        }
      ]
    },
    {
      "cell_type": "code",
      "metadata": {
        "colab": {
          "base_uri": "https://localhost:8080/"
        },
        "id": "dDTUGbxYYXb-",
        "outputId": "336aa44c-1a4c-476f-c616-4be273b04d71"
      },
      "source": [
        "!pytest -k \"TestGetPlotForBestFitLine\" --mpl"
      ],
      "execution_count": 66,
      "outputs": [
        {
          "output_type": "stream",
          "text": [
            "\u001b[1m============================= test session starts ==============================\u001b[0m\n",
            "platform linux -- Python 3.7.10, pytest-6.2.4, py-1.10.0, pluggy-0.13.1\n",
            "Matplotlib: 3.2.2\n",
            "Freetype: 2.6.1\n",
            "rootdir: /content\n",
            "plugins: cov-2.12.0, mock-3.6.1, mpl-0.12, typeguard-2.7.1\n",
            "collected 26 items / 24 deselected / 2 selected                                \u001b[0m\n",
            "\n",
            "mypackages/uregress/tests/visualization/test_plots.py \u001b[31mF\u001b[0m\u001b[31mF\u001b[0m\u001b[31m                 [100%]\u001b[0m\n",
            "\n",
            "=================================== FAILURES ===================================\n",
            "\u001b[31m\u001b[1m_____________ TestGetPlotForBestFitLine.test_plot_for_linear_data ______________\u001b[0m\n",
            "Error: Image files did \u001b[95mnot\u001b[39;49;00m match.\n",
            "  RMS Value: \u001b[94m11.31222568728188\u001b[39;49;00m\n",
            "  Expected:  \n",
            "    /tmp/tmpbnzcfp0g/tests.visualization.test_plots.test_plot_for_linear_data/baseline.png\n",
            "  Actual:    \n",
            "    /tmp/tmpbnzcfp0g/tests.visualization.test_plots.test_plot_for_linear_data/result.png\n",
            "  Difference:\n",
            "    /tmp/tmpbnzcfp0g/tests.visualization.test_plots.test_plot_for_linear_data/result-failed-diff.png\n",
            "  Tolerance: \n",
            "    \u001b[94m2\u001b[39;49;00m\n",
            "\u001b[31m\u001b[1m__________ TestGetPlotForBestFitLine.test_plot_for_almost_linear_data __________\u001b[0m\n",
            "Error: Image files did \u001b[95mnot\u001b[39;49;00m match.\n",
            "  RMS Value: \u001b[94m11.31222568728188\u001b[39;49;00m\n",
            "  Expected:  \n",
            "    /tmp/tmpbnzcfp0g/tests.visualization.test_plots.test_plot_for_almost_linear_data/baseline.png\n",
            "  Actual:    \n",
            "    /tmp/tmpbnzcfp0g/tests.visualization.test_plots.test_plot_for_almost_linear_data/result.png\n",
            "  Difference:\n",
            "    /tmp/tmpbnzcfp0g/tests.visualization.test_plots.test_plot_for_almost_linear_data/result-failed-diff.png\n",
            "  Tolerance: \n",
            "    \u001b[94m2\u001b[39;49;00m\n",
            "=========================== short test summary info ============================\n",
            "FAILED mypackages/uregress/tests/visualization/test_plots.py::TestGetPlotForBestFitLine::test_plot_for_linear_data\n",
            "FAILED mypackages/uregress/tests/visualization/test_plots.py::TestGetPlotForBestFitLine::test_plot_for_almost_linear_data\n",
            "\u001b[31m======================= \u001b[31m\u001b[1m2 failed\u001b[0m, \u001b[33m24 deselected\u001b[0m\u001b[31m in 1.95s\u001b[0m\u001b[31m =======================\u001b[0m\n"
          ],
          "name": "stdout"
        }
      ]
    },
    {
      "cell_type": "markdown",
      "metadata": {
        "id": "4DrjOfHoZL1n"
      },
      "source": [
        "# The black areas are where the actual image and the baseline matches. The white areas are where they don't match.\n",
        "\n",
        "### Where are they?  I couldn't locate the difference file on colab ?\n",
        "\n",
        "What happens after correcting the plot function?"
      ]
    },
    {
      "cell_type": "code",
      "metadata": {
        "colab": {
          "base_uri": "https://localhost:8080/"
        },
        "id": "c7GTFcnNZM4P",
        "outputId": "35201ff6-7811-4034-dd76-0444a671addc"
      },
      "source": [
        "!pytest -k \"TestGetPlotForBestFitLine\" --mpl"
      ],
      "execution_count": 68,
      "outputs": [
        {
          "output_type": "stream",
          "text": [
            "\u001b[1m============================= test session starts ==============================\u001b[0m\n",
            "platform linux -- Python 3.7.10, pytest-6.2.4, py-1.10.0, pluggy-0.13.1\n",
            "Matplotlib: 3.2.2\n",
            "Freetype: 2.6.1\n",
            "rootdir: /content\n",
            "plugins: cov-2.12.0, mock-3.6.1, mpl-0.12, typeguard-2.7.1\n",
            "collected 26 items / 24 deselected / 2 selected                                \u001b[0m\n",
            "\n",
            "mypackages/uregress/tests/visualization/test_plots.py \u001b[32m.\u001b[0m\u001b[32m.\u001b[0m\u001b[32m                 [100%]\u001b[0m\n",
            "\n",
            "\u001b[32m======================= \u001b[32m\u001b[1m2 passed\u001b[0m, \u001b[33m24 deselected\u001b[0m\u001b[32m in 1.66s\u001b[0m\u001b[32m =======================\u001b[0m\n"
          ],
          "name": "stdout"
        }
      ]
    },
    {
      "cell_type": "code",
      "metadata": {
        "id": "kVOJJtnFchki"
      },
      "source": [
        ""
      ],
      "execution_count": null,
      "outputs": []
    }
  ]
}